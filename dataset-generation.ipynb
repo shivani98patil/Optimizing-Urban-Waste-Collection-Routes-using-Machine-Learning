{
 "cells": [
  {
   "cell_type": "code",
   "execution_count": 87,
   "id": "initial_id",
   "metadata": {
    "collapsed": true,
    "ExecuteTime": {
     "end_time": "2024-12-12T19:55:26.344968200Z",
     "start_time": "2024-12-12T19:55:25.645058100Z"
    }
   },
   "outputs": [
    {
     "data": {
      "text/plain": "  Report Date                  Load Type               Load Time  Load Weight  \\\n0  12/08/2020                       BULK  12/08/2020 03:02:00 PM       5220.0   \n1  12/08/2020  RECYCLING - SINGLE STREAM  12/08/2020 10:00:00 AM      11140.0   \n2  12/03/2020  RECYCLING - SINGLE STREAM  12/03/2020 10:34:00 AM      10060.0   \n3  04/09/2021        GARBAGE COLLECTIONS  04/09/2021 03:22:00 PM      25500.0   \n4  12/07/2020                   SWEEPING  12/07/2020 10:15:00 AM       7100.0   \n\n         Dropoff Site                 Route Type  \n0        TDS LANDFILL                       BULK  \n1           TDS - MRF  RECYCLING - SINGLE STREAM  \n2  BALCONES RECYCLING  RECYCLING - SINGLE STREAM  \n3        TDS LANDFILL         GARBAGE COLLECTION  \n4        TDS LANDFILL          SWEEPER DUMPSITES  ",
      "text/html": "<div>\n<style scoped>\n    .dataframe tbody tr th:only-of-type {\n        vertical-align: middle;\n    }\n\n    .dataframe tbody tr th {\n        vertical-align: top;\n    }\n\n    .dataframe thead th {\n        text-align: right;\n    }\n</style>\n<table border=\"1\" class=\"dataframe\">\n  <thead>\n    <tr style=\"text-align: right;\">\n      <th></th>\n      <th>Report Date</th>\n      <th>Load Type</th>\n      <th>Load Time</th>\n      <th>Load Weight</th>\n      <th>Dropoff Site</th>\n      <th>Route Type</th>\n    </tr>\n  </thead>\n  <tbody>\n    <tr>\n      <th>0</th>\n      <td>12/08/2020</td>\n      <td>BULK</td>\n      <td>12/08/2020 03:02:00 PM</td>\n      <td>5220.0</td>\n      <td>TDS LANDFILL</td>\n      <td>BULK</td>\n    </tr>\n    <tr>\n      <th>1</th>\n      <td>12/08/2020</td>\n      <td>RECYCLING - SINGLE STREAM</td>\n      <td>12/08/2020 10:00:00 AM</td>\n      <td>11140.0</td>\n      <td>TDS - MRF</td>\n      <td>RECYCLING - SINGLE STREAM</td>\n    </tr>\n    <tr>\n      <th>2</th>\n      <td>12/03/2020</td>\n      <td>RECYCLING - SINGLE STREAM</td>\n      <td>12/03/2020 10:34:00 AM</td>\n      <td>10060.0</td>\n      <td>BALCONES RECYCLING</td>\n      <td>RECYCLING - SINGLE STREAM</td>\n    </tr>\n    <tr>\n      <th>3</th>\n      <td>04/09/2021</td>\n      <td>GARBAGE COLLECTIONS</td>\n      <td>04/09/2021 03:22:00 PM</td>\n      <td>25500.0</td>\n      <td>TDS LANDFILL</td>\n      <td>GARBAGE COLLECTION</td>\n    </tr>\n    <tr>\n      <th>4</th>\n      <td>12/07/2020</td>\n      <td>SWEEPING</td>\n      <td>12/07/2020 10:15:00 AM</td>\n      <td>7100.0</td>\n      <td>TDS LANDFILL</td>\n      <td>SWEEPER DUMPSITES</td>\n    </tr>\n  </tbody>\n</table>\n</div>"
     },
     "execution_count": 87,
     "metadata": {},
     "output_type": "execute_result"
    }
   ],
   "source": [
    "# Import the pandas library\n",
    "import pandas as pd\n",
    "\n",
    "# Read the CSV file\n",
    "file_path = 'Waste_Collection___Diversion_Report__daily__20241210.csv'\n",
    "data = pd.read_csv(file_path)\n",
    "\n",
    "data = data.drop(columns=[\"Route Number\", \"Load ID\"])\n",
    "\n",
    "# Display the first few rows of the updated DataFrame\n",
    "data.head()"
   ]
  },
  {
   "cell_type": "code",
   "execution_count": 88,
   "outputs": [
    {
     "name": "stdout",
     "output_type": "stream",
     "text": [
      "Index(['Report Date', 'Load Type', 'Load Time', 'Load Weight', 'Dropoff Site',\n",
      "       'Route Type'],\n",
      "      dtype='object')\n"
     ]
    }
   ],
   "source": [
    "print(data.columns)"
   ],
   "metadata": {
    "collapsed": false,
    "ExecuteTime": {
     "end_time": "2024-12-12T19:55:26.745253100Z",
     "start_time": "2024-12-12T19:55:26.732908500Z"
    }
   },
   "id": "30507185ebb7d87c"
  },
  {
   "cell_type": "code",
   "execution_count": 89,
   "outputs": [
    {
     "name": "stdout",
     "output_type": "stream",
     "text": [
      "['TDS LANDFILL' 'TDS - MRF' 'BALCONES RECYCLING' 'HORNSBY BEND'\n",
      " 'ORGANICS BY GOSH' 'ONION CREEK' 'AUSTIN IRON AND METAL' 'MRF'\n",
      " 'BALCONES WOODS' 'GREAT NORTHERN' 'ON ROUTE HIGH DUMP' 'PARK CENTER'\n",
      " 'STEINER LANDFILL' 'COMMERCIAL METALS' 'WILCAB' 'AUSTIN WOOD RECYCLING'\n",
      " 'WESTFIELD' 'PARK BEND' 'ST. EDWARDS' 'ZILKER' 'BURGER CENTER'\n",
      " 'WINNEBAGO' 'ELMONT' 'BRAKER SITE' 'CROSS PARK' 'BFI LANDFILL'\n",
      " 'BARTON SKYWAY' 'CLARKSON' 'PEASE PARK' 'KRAMER' 'INSPIRATION/GUNNISAN'\n",
      " 'CYCLED PLASTICS LTD' 'LITTER DROPOFF' 'DEEP EDDY PARK']\n"
     ]
    }
   ],
   "source": [
    "# Print all the unique values in the \"Dropoff Site\" column\n",
    "unique_dropoff_sites = data[\"Dropoff Site\"].unique()\n",
    "print(unique_dropoff_sites)"
   ],
   "metadata": {
    "collapsed": false,
    "ExecuteTime": {
     "end_time": "2024-12-12T19:55:27.345767Z",
     "start_time": "2024-12-12T19:55:27.305693800Z"
    }
   },
   "id": "a1f2bbd01f874259"
  },
  {
   "cell_type": "code",
   "execution_count": 90,
   "outputs": [
    {
     "data": {
      "text/plain": "  Report Date                  Load Type               Load Time  Load Weight  \\\n0  12/08/2020                       BULK  12/08/2020 03:02:00 PM       5220.0   \n2  12/03/2020  RECYCLING - SINGLE STREAM  12/03/2020 10:34:00 AM      10060.0   \n3  04/09/2021        GARBAGE COLLECTIONS  04/09/2021 03:22:00 PM      25500.0   \n4  12/07/2020                   SWEEPING  12/07/2020 10:15:00 AM       7100.0   \n6  12/04/2020        GARBAGE COLLECTIONS  12/04/2020 01:01:00 PM      22720.0   \n\n         Dropoff Site                 Route Type  \n0        TDS LANDFILL                       BULK  \n2  BALCONES RECYCLING  RECYCLING - SINGLE STREAM  \n3        TDS LANDFILL         GARBAGE COLLECTION  \n4        TDS LANDFILL          SWEEPER DUMPSITES  \n6        TDS LANDFILL         GARBAGE COLLECTION  ",
      "text/html": "<div>\n<style scoped>\n    .dataframe tbody tr th:only-of-type {\n        vertical-align: middle;\n    }\n\n    .dataframe tbody tr th {\n        vertical-align: top;\n    }\n\n    .dataframe thead th {\n        text-align: right;\n    }\n</style>\n<table border=\"1\" class=\"dataframe\">\n  <thead>\n    <tr style=\"text-align: right;\">\n      <th></th>\n      <th>Report Date</th>\n      <th>Load Type</th>\n      <th>Load Time</th>\n      <th>Load Weight</th>\n      <th>Dropoff Site</th>\n      <th>Route Type</th>\n    </tr>\n  </thead>\n  <tbody>\n    <tr>\n      <th>0</th>\n      <td>12/08/2020</td>\n      <td>BULK</td>\n      <td>12/08/2020 03:02:00 PM</td>\n      <td>5220.0</td>\n      <td>TDS LANDFILL</td>\n      <td>BULK</td>\n    </tr>\n    <tr>\n      <th>2</th>\n      <td>12/03/2020</td>\n      <td>RECYCLING - SINGLE STREAM</td>\n      <td>12/03/2020 10:34:00 AM</td>\n      <td>10060.0</td>\n      <td>BALCONES RECYCLING</td>\n      <td>RECYCLING - SINGLE STREAM</td>\n    </tr>\n    <tr>\n      <th>3</th>\n      <td>04/09/2021</td>\n      <td>GARBAGE COLLECTIONS</td>\n      <td>04/09/2021 03:22:00 PM</td>\n      <td>25500.0</td>\n      <td>TDS LANDFILL</td>\n      <td>GARBAGE COLLECTION</td>\n    </tr>\n    <tr>\n      <th>4</th>\n      <td>12/07/2020</td>\n      <td>SWEEPING</td>\n      <td>12/07/2020 10:15:00 AM</td>\n      <td>7100.0</td>\n      <td>TDS LANDFILL</td>\n      <td>SWEEPER DUMPSITES</td>\n    </tr>\n    <tr>\n      <th>6</th>\n      <td>12/04/2020</td>\n      <td>GARBAGE COLLECTIONS</td>\n      <td>12/04/2020 01:01:00 PM</td>\n      <td>22720.0</td>\n      <td>TDS LANDFILL</td>\n      <td>GARBAGE COLLECTION</td>\n    </tr>\n  </tbody>\n</table>\n</div>"
     },
     "execution_count": 90,
     "metadata": {},
     "output_type": "execute_result"
    }
   ],
   "source": [
    "# Filter the data for specific Dropoff Sites\n",
    "data = data[data[\"Dropoff Site\"].isin([\n",
    "    \"BALCONES RECYCLING\", \n",
    "    \"BALCONES WOODS\", \n",
    "    \"BURGER CENTER\", \n",
    "    \"ELMONT\", \n",
    "    \"HORNSBY BEND\", \n",
    "    \"TDS LANDFILL\"\n",
    "])]\n",
    "\n",
    "# Display the first few rows of the filtered DataFrame\n",
    "data.head()"
   ],
   "metadata": {
    "collapsed": false,
    "ExecuteTime": {
     "end_time": "2024-12-12T19:55:27.979501700Z",
     "start_time": "2024-12-12T19:55:27.908553100Z"
    }
   },
   "id": "e7e17cb3e3e3874f"
  },
  {
   "cell_type": "code",
   "execution_count": 91,
   "outputs": [
    {
     "name": "stdout",
     "output_type": "stream",
     "text": [
      "30080\n"
     ]
    }
   ],
   "source": [
    "data[\"Report Date\"] = pd.to_datetime(data[\"Report Date\"], format=\"%m/%d/%Y\")\n",
    "\n",
    "# Filter the data for the date range between 01/01/2020 and 12/30/2020\n",
    "start_date = \"2020-01-01\"\n",
    "end_date = \"2020-12-30\"\n",
    "data = data[(data[\"Report Date\"] >= start_date) & (data[\"Report Date\"] <= end_date)]\n",
    "\n",
    "# Display the first few rows of the filtered DataFrame\n",
    "data.head()\n",
    "\n",
    "print(len(data))"
   ],
   "metadata": {
    "collapsed": false,
    "ExecuteTime": {
     "end_time": "2024-12-12T19:55:28.513444500Z",
     "start_time": "2024-12-12T19:55:28.427058700Z"
    }
   },
   "id": "f1dfd2d4b8c777fc"
  },
  {
   "cell_type": "code",
   "execution_count": 92,
   "outputs": [],
   "source": [
    "import pandas as pd\n",
    "\n",
    "# Read the CSV files into separate DataFrames\n",
    "df1 = pd.read_csv('weather/Balcones.csv')\n",
    "df2 = pd.read_csv('weather/BURGER_CENTER.csv')\n",
    "df3 = pd.read_csv('weather/ELMONT.csv')\n",
    "df4 = pd.read_csv('weather/Hornsby_Bend.csv')\n",
    "df5 = pd.read_csv('weather/TDS Landfill.csv')\n",
    "\n",
    "# Concatenate all the DataFrames into a single DataFrame\n",
    "merged_data = pd.concat([df1, df2, df3, df4, df5])\n",
    "\n",
    "# Save the concatenated DataFrame to a new CSV file\n",
    "merged_data.to_csv('weather/merged_weather_data.csv', index=False)"
   ],
   "metadata": {
    "collapsed": false,
    "ExecuteTime": {
     "end_time": "2024-12-12T19:55:29.116130800Z",
     "start_time": "2024-12-12T19:55:29.001772900Z"
    }
   },
   "id": "8d10a780ade91b04"
  },
  {
   "cell_type": "code",
   "execution_count": 93,
   "outputs": [
    {
     "data": {
      "text/plain": "                             name    datetime  tempmax  tempmin  temp  \\\n0  9301 Johnny Morris Road Austin  2020-01-01     56.1     49.4  53.2   \n1  9301 Johnny Morris Road Austin  2020-01-02     59.7     47.3  53.6   \n2  9301 Johnny Morris Road Austin  2020-01-03     63.7     45.8  54.0   \n3  9301 Johnny Morris Road Austin  2020-01-04     70.6     37.9  54.2   \n4  9301 Johnny Morris Road Austin  2020-01-05     73.9     44.0  57.5   \n\n   feelslikemax  feelslikemin  feelslike   dew  humidity  ...  solarenergy  \\\n0          56.1          49.4       53.2  35.9      53.0  ...          2.5   \n1          59.7          47.3       53.5  50.0      87.6  ...          2.3   \n2          63.7          44.8       53.5  41.0      64.8  ...         12.3   \n3          70.6          37.9       53.6  30.3      43.0  ...         13.0   \n4          73.9          41.0       56.5  33.2      42.2  ...         13.1   \n\n   uvindex  severerisk              sunrise               sunset  moonphase  \\\n0        2         NaN  2020-01-01T07:27:12  2020-01-01T17:40:50       0.21   \n1        1         NaN  2020-01-02T07:27:26  2020-01-02T17:41:33       0.25   \n2        6         NaN  2020-01-03T07:27:38  2020-01-03T17:42:17       0.27   \n3        6         NaN  2020-01-04T07:27:48  2020-01-04T17:43:01       0.31   \n4        6         NaN  2020-01-05T07:27:57  2020-01-05T17:43:47       0.34   \n\n               conditions                                        description  \\\n0                Overcast                   Cloudy skies throughout the day.   \n1  Rain, Partially cloudy  Partly cloudy throughout the day with morning ...   \n2                   Clear               Clear conditions throughout the day.   \n3                   Clear               Clear conditions throughout the day.   \n4                   Clear               Clear conditions throughout the day.   \n\n        icon                                           stations  \n0     cloudy  KATT,KAUS,72064800230,E4737,KEDC,72254013904,E...  \n1       rain  KATT,72064800230,KAUS,E4737,KEDC,72254013904,E...  \n2  clear-day  KATT,72064800230,KAUS,C6155,KEDC,72254013904,E...  \n3  clear-day  KATT,72064800230,KAUS,C6155,KEDC,72254013904,E...  \n4  clear-day  KATT,72064800230,KAUS,C6155,KEDC,72254013904,E...  \n\n[5 rows x 33 columns]",
      "text/html": "<div>\n<style scoped>\n    .dataframe tbody tr th:only-of-type {\n        vertical-align: middle;\n    }\n\n    .dataframe tbody tr th {\n        vertical-align: top;\n    }\n\n    .dataframe thead th {\n        text-align: right;\n    }\n</style>\n<table border=\"1\" class=\"dataframe\">\n  <thead>\n    <tr style=\"text-align: right;\">\n      <th></th>\n      <th>name</th>\n      <th>datetime</th>\n      <th>tempmax</th>\n      <th>tempmin</th>\n      <th>temp</th>\n      <th>feelslikemax</th>\n      <th>feelslikemin</th>\n      <th>feelslike</th>\n      <th>dew</th>\n      <th>humidity</th>\n      <th>...</th>\n      <th>solarenergy</th>\n      <th>uvindex</th>\n      <th>severerisk</th>\n      <th>sunrise</th>\n      <th>sunset</th>\n      <th>moonphase</th>\n      <th>conditions</th>\n      <th>description</th>\n      <th>icon</th>\n      <th>stations</th>\n    </tr>\n  </thead>\n  <tbody>\n    <tr>\n      <th>0</th>\n      <td>9301 Johnny Morris Road Austin</td>\n      <td>2020-01-01</td>\n      <td>56.1</td>\n      <td>49.4</td>\n      <td>53.2</td>\n      <td>56.1</td>\n      <td>49.4</td>\n      <td>53.2</td>\n      <td>35.9</td>\n      <td>53.0</td>\n      <td>...</td>\n      <td>2.5</td>\n      <td>2</td>\n      <td>NaN</td>\n      <td>2020-01-01T07:27:12</td>\n      <td>2020-01-01T17:40:50</td>\n      <td>0.21</td>\n      <td>Overcast</td>\n      <td>Cloudy skies throughout the day.</td>\n      <td>cloudy</td>\n      <td>KATT,KAUS,72064800230,E4737,KEDC,72254013904,E...</td>\n    </tr>\n    <tr>\n      <th>1</th>\n      <td>9301 Johnny Morris Road Austin</td>\n      <td>2020-01-02</td>\n      <td>59.7</td>\n      <td>47.3</td>\n      <td>53.6</td>\n      <td>59.7</td>\n      <td>47.3</td>\n      <td>53.5</td>\n      <td>50.0</td>\n      <td>87.6</td>\n      <td>...</td>\n      <td>2.3</td>\n      <td>1</td>\n      <td>NaN</td>\n      <td>2020-01-02T07:27:26</td>\n      <td>2020-01-02T17:41:33</td>\n      <td>0.25</td>\n      <td>Rain, Partially cloudy</td>\n      <td>Partly cloudy throughout the day with morning ...</td>\n      <td>rain</td>\n      <td>KATT,72064800230,KAUS,E4737,KEDC,72254013904,E...</td>\n    </tr>\n    <tr>\n      <th>2</th>\n      <td>9301 Johnny Morris Road Austin</td>\n      <td>2020-01-03</td>\n      <td>63.7</td>\n      <td>45.8</td>\n      <td>54.0</td>\n      <td>63.7</td>\n      <td>44.8</td>\n      <td>53.5</td>\n      <td>41.0</td>\n      <td>64.8</td>\n      <td>...</td>\n      <td>12.3</td>\n      <td>6</td>\n      <td>NaN</td>\n      <td>2020-01-03T07:27:38</td>\n      <td>2020-01-03T17:42:17</td>\n      <td>0.27</td>\n      <td>Clear</td>\n      <td>Clear conditions throughout the day.</td>\n      <td>clear-day</td>\n      <td>KATT,72064800230,KAUS,C6155,KEDC,72254013904,E...</td>\n    </tr>\n    <tr>\n      <th>3</th>\n      <td>9301 Johnny Morris Road Austin</td>\n      <td>2020-01-04</td>\n      <td>70.6</td>\n      <td>37.9</td>\n      <td>54.2</td>\n      <td>70.6</td>\n      <td>37.9</td>\n      <td>53.6</td>\n      <td>30.3</td>\n      <td>43.0</td>\n      <td>...</td>\n      <td>13.0</td>\n      <td>6</td>\n      <td>NaN</td>\n      <td>2020-01-04T07:27:48</td>\n      <td>2020-01-04T17:43:01</td>\n      <td>0.31</td>\n      <td>Clear</td>\n      <td>Clear conditions throughout the day.</td>\n      <td>clear-day</td>\n      <td>KATT,72064800230,KAUS,C6155,KEDC,72254013904,E...</td>\n    </tr>\n    <tr>\n      <th>4</th>\n      <td>9301 Johnny Morris Road Austin</td>\n      <td>2020-01-05</td>\n      <td>73.9</td>\n      <td>44.0</td>\n      <td>57.5</td>\n      <td>73.9</td>\n      <td>41.0</td>\n      <td>56.5</td>\n      <td>33.2</td>\n      <td>42.2</td>\n      <td>...</td>\n      <td>13.1</td>\n      <td>6</td>\n      <td>NaN</td>\n      <td>2020-01-05T07:27:57</td>\n      <td>2020-01-05T17:43:47</td>\n      <td>0.34</td>\n      <td>Clear</td>\n      <td>Clear conditions throughout the day.</td>\n      <td>clear-day</td>\n      <td>KATT,72064800230,KAUS,C6155,KEDC,72254013904,E...</td>\n    </tr>\n  </tbody>\n</table>\n<p>5 rows × 33 columns</p>\n</div>"
     },
     "execution_count": 93,
     "metadata": {},
     "output_type": "execute_result"
    }
   ],
   "source": [
    "merged_data.head()"
   ],
   "metadata": {
    "collapsed": false,
    "ExecuteTime": {
     "end_time": "2024-12-12T19:55:29.585319900Z",
     "start_time": "2024-12-12T19:55:29.571810700Z"
    }
   },
   "id": "bec9f590a453ab4"
  },
  {
   "cell_type": "code",
   "execution_count": 94,
   "outputs": [
    {
     "name": "stdout",
     "output_type": "stream",
     "text": [
      "['9301 Johnny Morris Road Austin' '3200 Jones Rd, Austin, TX 78745'\n",
      " '4600 Elmont Dr Austin, TX 78741' '2210 FM 973, Austin, TX 78725'\n",
      " '12200 Carl Rd, Creedmoor, TX 78610']\n"
     ]
    }
   ],
   "source": [
    "unique_dropoff_sites = merged_data[\"name\"].unique()\n",
    "print(unique_dropoff_sites)"
   ],
   "metadata": {
    "collapsed": false,
    "ExecuteTime": {
     "end_time": "2024-12-12T19:55:30.321996500Z",
     "start_time": "2024-12-12T19:55:30.317714Z"
    }
   },
   "id": "c2d32cc7f9516514"
  },
  {
   "cell_type": "code",
   "execution_count": 95,
   "outputs": [
    {
     "data": {
      "text/plain": "                             name    datetime  tempmax  tempmin  temp  \\\n0  9301 Johnny Morris Road Austin  2020-01-01     56.1     49.4  53.2   \n1  9301 Johnny Morris Road Austin  2020-01-02     59.7     47.3  53.6   \n2  9301 Johnny Morris Road Austin  2020-01-03     63.7     45.8  54.0   \n3  9301 Johnny Morris Road Austin  2020-01-04     70.6     37.9  54.2   \n4  9301 Johnny Morris Road Austin  2020-01-05     73.9     44.0  57.5   \n\n   feelslikemax  feelslikemin  feelslike   dew  humidity  ...  uvindex  \\\n0          56.1          49.4       53.2  35.9      53.0  ...        2   \n1          59.7          47.3       53.5  50.0      87.6  ...        1   \n2          63.7          44.8       53.5  41.0      64.8  ...        6   \n3          70.6          37.9       53.6  30.3      43.0  ...        6   \n4          73.9          41.0       56.5  33.2      42.2  ...        6   \n\n   severerisk              sunrise               sunset  moonphase  \\\n0         NaN  2020-01-01T07:27:12  2020-01-01T17:40:50       0.21   \n1         NaN  2020-01-02T07:27:26  2020-01-02T17:41:33       0.25   \n2         NaN  2020-01-03T07:27:38  2020-01-03T17:42:17       0.27   \n3         NaN  2020-01-04T07:27:48  2020-01-04T17:43:01       0.31   \n4         NaN  2020-01-05T07:27:57  2020-01-05T17:43:47       0.34   \n\n               conditions                                        description  \\\n0                Overcast                   Cloudy skies throughout the day.   \n1  Rain, Partially cloudy  Partly cloudy throughout the day with morning ...   \n2                   Clear               Clear conditions throughout the day.   \n3                   Clear               Clear conditions throughout the day.   \n4                   Clear               Clear conditions throughout the day.   \n\n        icon                                           stations  \\\n0     cloudy  KATT,KAUS,72064800230,E4737,KEDC,72254013904,E...   \n1       rain  KATT,72064800230,KAUS,E4737,KEDC,72254013904,E...   \n2  clear-day  KATT,72064800230,KAUS,C6155,KEDC,72254013904,E...   \n3  clear-day  KATT,72064800230,KAUS,C6155,KEDC,72254013904,E...   \n4  clear-day  KATT,72064800230,KAUS,C6155,KEDC,72254013904,E...   \n\n             location  \n0  BALCONES RECYCLING  \n1  BALCONES RECYCLING  \n2  BALCONES RECYCLING  \n3  BALCONES RECYCLING  \n4  BALCONES RECYCLING  \n\n[5 rows x 34 columns]",
      "text/html": "<div>\n<style scoped>\n    .dataframe tbody tr th:only-of-type {\n        vertical-align: middle;\n    }\n\n    .dataframe tbody tr th {\n        vertical-align: top;\n    }\n\n    .dataframe thead th {\n        text-align: right;\n    }\n</style>\n<table border=\"1\" class=\"dataframe\">\n  <thead>\n    <tr style=\"text-align: right;\">\n      <th></th>\n      <th>name</th>\n      <th>datetime</th>\n      <th>tempmax</th>\n      <th>tempmin</th>\n      <th>temp</th>\n      <th>feelslikemax</th>\n      <th>feelslikemin</th>\n      <th>feelslike</th>\n      <th>dew</th>\n      <th>humidity</th>\n      <th>...</th>\n      <th>uvindex</th>\n      <th>severerisk</th>\n      <th>sunrise</th>\n      <th>sunset</th>\n      <th>moonphase</th>\n      <th>conditions</th>\n      <th>description</th>\n      <th>icon</th>\n      <th>stations</th>\n      <th>location</th>\n    </tr>\n  </thead>\n  <tbody>\n    <tr>\n      <th>0</th>\n      <td>9301 Johnny Morris Road Austin</td>\n      <td>2020-01-01</td>\n      <td>56.1</td>\n      <td>49.4</td>\n      <td>53.2</td>\n      <td>56.1</td>\n      <td>49.4</td>\n      <td>53.2</td>\n      <td>35.9</td>\n      <td>53.0</td>\n      <td>...</td>\n      <td>2</td>\n      <td>NaN</td>\n      <td>2020-01-01T07:27:12</td>\n      <td>2020-01-01T17:40:50</td>\n      <td>0.21</td>\n      <td>Overcast</td>\n      <td>Cloudy skies throughout the day.</td>\n      <td>cloudy</td>\n      <td>KATT,KAUS,72064800230,E4737,KEDC,72254013904,E...</td>\n      <td>BALCONES RECYCLING</td>\n    </tr>\n    <tr>\n      <th>1</th>\n      <td>9301 Johnny Morris Road Austin</td>\n      <td>2020-01-02</td>\n      <td>59.7</td>\n      <td>47.3</td>\n      <td>53.6</td>\n      <td>59.7</td>\n      <td>47.3</td>\n      <td>53.5</td>\n      <td>50.0</td>\n      <td>87.6</td>\n      <td>...</td>\n      <td>1</td>\n      <td>NaN</td>\n      <td>2020-01-02T07:27:26</td>\n      <td>2020-01-02T17:41:33</td>\n      <td>0.25</td>\n      <td>Rain, Partially cloudy</td>\n      <td>Partly cloudy throughout the day with morning ...</td>\n      <td>rain</td>\n      <td>KATT,72064800230,KAUS,E4737,KEDC,72254013904,E...</td>\n      <td>BALCONES RECYCLING</td>\n    </tr>\n    <tr>\n      <th>2</th>\n      <td>9301 Johnny Morris Road Austin</td>\n      <td>2020-01-03</td>\n      <td>63.7</td>\n      <td>45.8</td>\n      <td>54.0</td>\n      <td>63.7</td>\n      <td>44.8</td>\n      <td>53.5</td>\n      <td>41.0</td>\n      <td>64.8</td>\n      <td>...</td>\n      <td>6</td>\n      <td>NaN</td>\n      <td>2020-01-03T07:27:38</td>\n      <td>2020-01-03T17:42:17</td>\n      <td>0.27</td>\n      <td>Clear</td>\n      <td>Clear conditions throughout the day.</td>\n      <td>clear-day</td>\n      <td>KATT,72064800230,KAUS,C6155,KEDC,72254013904,E...</td>\n      <td>BALCONES RECYCLING</td>\n    </tr>\n    <tr>\n      <th>3</th>\n      <td>9301 Johnny Morris Road Austin</td>\n      <td>2020-01-04</td>\n      <td>70.6</td>\n      <td>37.9</td>\n      <td>54.2</td>\n      <td>70.6</td>\n      <td>37.9</td>\n      <td>53.6</td>\n      <td>30.3</td>\n      <td>43.0</td>\n      <td>...</td>\n      <td>6</td>\n      <td>NaN</td>\n      <td>2020-01-04T07:27:48</td>\n      <td>2020-01-04T17:43:01</td>\n      <td>0.31</td>\n      <td>Clear</td>\n      <td>Clear conditions throughout the day.</td>\n      <td>clear-day</td>\n      <td>KATT,72064800230,KAUS,C6155,KEDC,72254013904,E...</td>\n      <td>BALCONES RECYCLING</td>\n    </tr>\n    <tr>\n      <th>4</th>\n      <td>9301 Johnny Morris Road Austin</td>\n      <td>2020-01-05</td>\n      <td>73.9</td>\n      <td>44.0</td>\n      <td>57.5</td>\n      <td>73.9</td>\n      <td>41.0</td>\n      <td>56.5</td>\n      <td>33.2</td>\n      <td>42.2</td>\n      <td>...</td>\n      <td>6</td>\n      <td>NaN</td>\n      <td>2020-01-05T07:27:57</td>\n      <td>2020-01-05T17:43:47</td>\n      <td>0.34</td>\n      <td>Clear</td>\n      <td>Clear conditions throughout the day.</td>\n      <td>clear-day</td>\n      <td>KATT,72064800230,KAUS,C6155,KEDC,72254013904,E...</td>\n      <td>BALCONES RECYCLING</td>\n    </tr>\n  </tbody>\n</table>\n<p>5 rows × 34 columns</p>\n</div>"
     },
     "execution_count": 95,
     "metadata": {},
     "output_type": "execute_result"
    }
   ],
   "source": [
    "# Create a mapping dictionary for the 'name' to 'location'\n",
    "location_mapping = {\n",
    "    '9301 Johnny Morris Road Austin': 'BALCONES RECYCLING',\n",
    "    '3200 Jones Rd, Austin, TX 78745': 'BURGER CENTER',\n",
    "    '4600 Elmont Dr Austin, TX 78741': 'ELMONT',\n",
    "    '2210 FM 973, Austin, TX 78725': 'HORNSBY BEND',\n",
    "    '12200 Carl Rd, Creedmoor, TX 78610': 'TDS LANDFILL'\n",
    "}\n",
    "\n",
    "# Add a new column 'location' to the merged_data DataFrame by mapping the 'name' column\n",
    "merged_data['location'] = merged_data['name'].map(location_mapping)\n",
    "\n",
    "# Display the first few rows of the updated DataFrame\n",
    "merged_data.head()"
   ],
   "metadata": {
    "collapsed": false,
    "ExecuteTime": {
     "end_time": "2024-12-12T19:55:30.888717300Z",
     "start_time": "2024-12-12T19:55:30.872869400Z"
    }
   },
   "id": "4e151a8ef1bb2e46"
  },
  {
   "cell_type": "code",
   "execution_count": 96,
   "outputs": [
    {
     "data": {
      "text/plain": "                             name    datetime  tempmax  tempmin  temp  \\\n0  9301 Johnny Morris Road Austin  01/01/2020     56.1     49.4  53.2   \n1  9301 Johnny Morris Road Austin  01/02/2020     59.7     47.3  53.6   \n2  9301 Johnny Morris Road Austin  01/03/2020     63.7     45.8  54.0   \n3  9301 Johnny Morris Road Austin  01/04/2020     70.6     37.9  54.2   \n4  9301 Johnny Morris Road Austin  01/05/2020     73.9     44.0  57.5   \n\n   feelslikemax  feelslikemin  feelslike   dew  humidity  ...  uvindex  \\\n0          56.1          49.4       53.2  35.9      53.0  ...        2   \n1          59.7          47.3       53.5  50.0      87.6  ...        1   \n2          63.7          44.8       53.5  41.0      64.8  ...        6   \n3          70.6          37.9       53.6  30.3      43.0  ...        6   \n4          73.9          41.0       56.5  33.2      42.2  ...        6   \n\n   severerisk              sunrise               sunset  moonphase  \\\n0         NaN  2020-01-01T07:27:12  2020-01-01T17:40:50       0.21   \n1         NaN  2020-01-02T07:27:26  2020-01-02T17:41:33       0.25   \n2         NaN  2020-01-03T07:27:38  2020-01-03T17:42:17       0.27   \n3         NaN  2020-01-04T07:27:48  2020-01-04T17:43:01       0.31   \n4         NaN  2020-01-05T07:27:57  2020-01-05T17:43:47       0.34   \n\n               conditions                                        description  \\\n0                Overcast                   Cloudy skies throughout the day.   \n1  Rain, Partially cloudy  Partly cloudy throughout the day with morning ...   \n2                   Clear               Clear conditions throughout the day.   \n3                   Clear               Clear conditions throughout the day.   \n4                   Clear               Clear conditions throughout the day.   \n\n        icon                                           stations  \\\n0     cloudy  KATT,KAUS,72064800230,E4737,KEDC,72254013904,E...   \n1       rain  KATT,72064800230,KAUS,E4737,KEDC,72254013904,E...   \n2  clear-day  KATT,72064800230,KAUS,C6155,KEDC,72254013904,E...   \n3  clear-day  KATT,72064800230,KAUS,C6155,KEDC,72254013904,E...   \n4  clear-day  KATT,72064800230,KAUS,C6155,KEDC,72254013904,E...   \n\n             location  \n0  BALCONES RECYCLING  \n1  BALCONES RECYCLING  \n2  BALCONES RECYCLING  \n3  BALCONES RECYCLING  \n4  BALCONES RECYCLING  \n\n[5 rows x 34 columns]",
      "text/html": "<div>\n<style scoped>\n    .dataframe tbody tr th:only-of-type {\n        vertical-align: middle;\n    }\n\n    .dataframe tbody tr th {\n        vertical-align: top;\n    }\n\n    .dataframe thead th {\n        text-align: right;\n    }\n</style>\n<table border=\"1\" class=\"dataframe\">\n  <thead>\n    <tr style=\"text-align: right;\">\n      <th></th>\n      <th>name</th>\n      <th>datetime</th>\n      <th>tempmax</th>\n      <th>tempmin</th>\n      <th>temp</th>\n      <th>feelslikemax</th>\n      <th>feelslikemin</th>\n      <th>feelslike</th>\n      <th>dew</th>\n      <th>humidity</th>\n      <th>...</th>\n      <th>uvindex</th>\n      <th>severerisk</th>\n      <th>sunrise</th>\n      <th>sunset</th>\n      <th>moonphase</th>\n      <th>conditions</th>\n      <th>description</th>\n      <th>icon</th>\n      <th>stations</th>\n      <th>location</th>\n    </tr>\n  </thead>\n  <tbody>\n    <tr>\n      <th>0</th>\n      <td>9301 Johnny Morris Road Austin</td>\n      <td>01/01/2020</td>\n      <td>56.1</td>\n      <td>49.4</td>\n      <td>53.2</td>\n      <td>56.1</td>\n      <td>49.4</td>\n      <td>53.2</td>\n      <td>35.9</td>\n      <td>53.0</td>\n      <td>...</td>\n      <td>2</td>\n      <td>NaN</td>\n      <td>2020-01-01T07:27:12</td>\n      <td>2020-01-01T17:40:50</td>\n      <td>0.21</td>\n      <td>Overcast</td>\n      <td>Cloudy skies throughout the day.</td>\n      <td>cloudy</td>\n      <td>KATT,KAUS,72064800230,E4737,KEDC,72254013904,E...</td>\n      <td>BALCONES RECYCLING</td>\n    </tr>\n    <tr>\n      <th>1</th>\n      <td>9301 Johnny Morris Road Austin</td>\n      <td>01/02/2020</td>\n      <td>59.7</td>\n      <td>47.3</td>\n      <td>53.6</td>\n      <td>59.7</td>\n      <td>47.3</td>\n      <td>53.5</td>\n      <td>50.0</td>\n      <td>87.6</td>\n      <td>...</td>\n      <td>1</td>\n      <td>NaN</td>\n      <td>2020-01-02T07:27:26</td>\n      <td>2020-01-02T17:41:33</td>\n      <td>0.25</td>\n      <td>Rain, Partially cloudy</td>\n      <td>Partly cloudy throughout the day with morning ...</td>\n      <td>rain</td>\n      <td>KATT,72064800230,KAUS,E4737,KEDC,72254013904,E...</td>\n      <td>BALCONES RECYCLING</td>\n    </tr>\n    <tr>\n      <th>2</th>\n      <td>9301 Johnny Morris Road Austin</td>\n      <td>01/03/2020</td>\n      <td>63.7</td>\n      <td>45.8</td>\n      <td>54.0</td>\n      <td>63.7</td>\n      <td>44.8</td>\n      <td>53.5</td>\n      <td>41.0</td>\n      <td>64.8</td>\n      <td>...</td>\n      <td>6</td>\n      <td>NaN</td>\n      <td>2020-01-03T07:27:38</td>\n      <td>2020-01-03T17:42:17</td>\n      <td>0.27</td>\n      <td>Clear</td>\n      <td>Clear conditions throughout the day.</td>\n      <td>clear-day</td>\n      <td>KATT,72064800230,KAUS,C6155,KEDC,72254013904,E...</td>\n      <td>BALCONES RECYCLING</td>\n    </tr>\n    <tr>\n      <th>3</th>\n      <td>9301 Johnny Morris Road Austin</td>\n      <td>01/04/2020</td>\n      <td>70.6</td>\n      <td>37.9</td>\n      <td>54.2</td>\n      <td>70.6</td>\n      <td>37.9</td>\n      <td>53.6</td>\n      <td>30.3</td>\n      <td>43.0</td>\n      <td>...</td>\n      <td>6</td>\n      <td>NaN</td>\n      <td>2020-01-04T07:27:48</td>\n      <td>2020-01-04T17:43:01</td>\n      <td>0.31</td>\n      <td>Clear</td>\n      <td>Clear conditions throughout the day.</td>\n      <td>clear-day</td>\n      <td>KATT,72064800230,KAUS,C6155,KEDC,72254013904,E...</td>\n      <td>BALCONES RECYCLING</td>\n    </tr>\n    <tr>\n      <th>4</th>\n      <td>9301 Johnny Morris Road Austin</td>\n      <td>01/05/2020</td>\n      <td>73.9</td>\n      <td>44.0</td>\n      <td>57.5</td>\n      <td>73.9</td>\n      <td>41.0</td>\n      <td>56.5</td>\n      <td>33.2</td>\n      <td>42.2</td>\n      <td>...</td>\n      <td>6</td>\n      <td>NaN</td>\n      <td>2020-01-05T07:27:57</td>\n      <td>2020-01-05T17:43:47</td>\n      <td>0.34</td>\n      <td>Clear</td>\n      <td>Clear conditions throughout the day.</td>\n      <td>clear-day</td>\n      <td>KATT,72064800230,KAUS,C6155,KEDC,72254013904,E...</td>\n      <td>BALCONES RECYCLING</td>\n    </tr>\n  </tbody>\n</table>\n<p>5 rows × 34 columns</p>\n</div>"
     },
     "execution_count": 96,
     "metadata": {},
     "output_type": "execute_result"
    }
   ],
   "source": [
    "# Save the concatenated DataFrame to a new CSV file\n",
    "# Convert the 'datetime' column to mm/dd/yyyy format\n",
    "merged_data['datetime'] = pd.to_datetime(merged_data['datetime']).dt.strftime('%m/%d/%Y')\n",
    "\n",
    "# merged_data['datetime'] = pd.to_datetime(merged_data[\"datetime\"], format=\"%m/%d/%Y\")\n",
    "merged_data.to_csv('weather/merged_weather_data.csv', index=False)\n",
    "merged_data.head()"
   ],
   "metadata": {
    "collapsed": false,
    "ExecuteTime": {
     "end_time": "2024-12-12T19:55:32.644938700Z",
     "start_time": "2024-12-12T19:55:32.587680700Z"
    }
   },
   "id": "a1a1b15765914549"
  },
  {
   "cell_type": "code",
   "execution_count": 97,
   "outputs": [
    {
     "name": "stdout",
     "output_type": "stream",
     "text": [
      "Index(['name', 'datetime', 'tempmax', 'tempmin', 'temp', 'feelslikemax',\n",
      "       'feelslikemin', 'feelslike', 'dew', 'humidity', 'precip', 'precipprob',\n",
      "       'precipcover', 'preciptype', 'snow', 'snowdepth', 'windgust',\n",
      "       'windspeed', 'winddir', 'sealevelpressure', 'cloudcover', 'visibility',\n",
      "       'solarradiation', 'solarenergy', 'uvindex', 'severerisk', 'sunrise',\n",
      "       'sunset', 'moonphase', 'conditions', 'description', 'icon', 'stations',\n",
      "       'location'],\n",
      "      dtype='object')\n"
     ]
    }
   ],
   "source": [
    "# Display the columns of the merged_data DataFrame\n",
    "print(merged_data.columns)"
   ],
   "metadata": {
    "collapsed": false,
    "ExecuteTime": {
     "end_time": "2024-12-12T19:55:33.512142400Z",
     "start_time": "2024-12-12T19:55:33.497070700Z"
    }
   },
   "id": "b7a048406679d8fa"
  },
  {
   "cell_type": "code",
   "execution_count": 98,
   "outputs": [],
   "source": [
    "# merged_data['datetime'] = pd.to_datetime(merged_data['datetime']).dt.strftime('%m/%d/%Y')\n",
    "data[\"Report Date\"] = pd.to_datetime(data[\"Report Date\"]).dt.strftime('%m/%d/%Y')"
   ],
   "metadata": {
    "collapsed": false,
    "ExecuteTime": {
     "end_time": "2024-12-12T19:55:34.590917900Z",
     "start_time": "2024-12-12T19:55:34.479471800Z"
    }
   },
   "id": "88432a47902fe09b"
  },
  {
   "cell_type": "code",
   "execution_count": 99,
   "outputs": [
    {
     "data": {
      "text/plain": "  Report Date                  Load Type               Load Time  Load Weight  \\\n0  12/08/2020                       BULK  12/08/2020 03:02:00 PM       5220.0   \n2  12/03/2020  RECYCLING - SINGLE STREAM  12/03/2020 10:34:00 AM      10060.0   \n4  12/07/2020                   SWEEPING  12/07/2020 10:15:00 AM       7100.0   \n6  12/04/2020        GARBAGE COLLECTIONS  12/04/2020 01:01:00 PM      22720.0   \n7  12/08/2020                       BULK  12/08/2020 12:37:00 PM       7700.0   \n\n         Dropoff Site                 Route Type conditions  \n0        TDS LANDFILL                       BULK        NaN  \n2  BALCONES RECYCLING  RECYCLING - SINGLE STREAM        NaN  \n4        TDS LANDFILL          SWEEPER DUMPSITES        NaN  \n6        TDS LANDFILL         GARBAGE COLLECTION        NaN  \n7        TDS LANDFILL                       BULK        NaN  ",
      "text/html": "<div>\n<style scoped>\n    .dataframe tbody tr th:only-of-type {\n        vertical-align: middle;\n    }\n\n    .dataframe tbody tr th {\n        vertical-align: top;\n    }\n\n    .dataframe thead th {\n        text-align: right;\n    }\n</style>\n<table border=\"1\" class=\"dataframe\">\n  <thead>\n    <tr style=\"text-align: right;\">\n      <th></th>\n      <th>Report Date</th>\n      <th>Load Type</th>\n      <th>Load Time</th>\n      <th>Load Weight</th>\n      <th>Dropoff Site</th>\n      <th>Route Type</th>\n      <th>conditions</th>\n    </tr>\n  </thead>\n  <tbody>\n    <tr>\n      <th>0</th>\n      <td>12/08/2020</td>\n      <td>BULK</td>\n      <td>12/08/2020 03:02:00 PM</td>\n      <td>5220.0</td>\n      <td>TDS LANDFILL</td>\n      <td>BULK</td>\n      <td>NaN</td>\n    </tr>\n    <tr>\n      <th>2</th>\n      <td>12/03/2020</td>\n      <td>RECYCLING - SINGLE STREAM</td>\n      <td>12/03/2020 10:34:00 AM</td>\n      <td>10060.0</td>\n      <td>BALCONES RECYCLING</td>\n      <td>RECYCLING - SINGLE STREAM</td>\n      <td>NaN</td>\n    </tr>\n    <tr>\n      <th>4</th>\n      <td>12/07/2020</td>\n      <td>SWEEPING</td>\n      <td>12/07/2020 10:15:00 AM</td>\n      <td>7100.0</td>\n      <td>TDS LANDFILL</td>\n      <td>SWEEPER DUMPSITES</td>\n      <td>NaN</td>\n    </tr>\n    <tr>\n      <th>6</th>\n      <td>12/04/2020</td>\n      <td>GARBAGE COLLECTIONS</td>\n      <td>12/04/2020 01:01:00 PM</td>\n      <td>22720.0</td>\n      <td>TDS LANDFILL</td>\n      <td>GARBAGE COLLECTION</td>\n      <td>NaN</td>\n    </tr>\n    <tr>\n      <th>7</th>\n      <td>12/08/2020</td>\n      <td>BULK</td>\n      <td>12/08/2020 12:37:00 PM</td>\n      <td>7700.0</td>\n      <td>TDS LANDFILL</td>\n      <td>BULK</td>\n      <td>NaN</td>\n    </tr>\n  </tbody>\n</table>\n</div>"
     },
     "execution_count": 99,
     "metadata": {},
     "output_type": "execute_result"
    }
   ],
   "source": [
    "# Merge the data and merged_data DataFrames based on 'Dropoff Site' and 'Report Date'\n",
    "merged_data['datetime'] = pd.to_datetime(merged_data['datetime']).dt.strftime('%m/%d/%Y')\n",
    "\n",
    "\n",
    "merged_result = pd.merge(data, merged_data, left_on=['Dropoff Site', 'Report Date'], right_on=['location', 'datetime'], how='left')\n",
    "\n",
    "# Select the relevant columns and add 'conditions' to the data DataFrame\n",
    "data['conditions'] = merged_result['conditions']\n",
    "\n",
    "# Display the first few rows of the updated data DataFrame\n",
    "data.head()"
   ],
   "metadata": {
    "collapsed": false,
    "ExecuteTime": {
     "end_time": "2024-12-12T19:55:35.123812800Z",
     "start_time": "2024-12-12T19:55:35.066187100Z"
    }
   },
   "id": "ba61c57ae3638428"
  },
  {
   "cell_type": "code",
   "execution_count": 100,
   "outputs": [
    {
     "name": "stdout",
     "output_type": "stream",
     "text": [
      "[nan 'Partially cloudy' 'Rain, Overcast' 'Rain, Partially cloudy' 'Clear'\n",
      " 'Snow, Rain, Overcast' 'Snow, Rain, Partially cloudy' 'Overcast'\n",
      " 'Snow, Rain']\n"
     ]
    }
   ],
   "source": [
    "\n",
    "print(data[\"conditions\"].unique())"
   ],
   "metadata": {
    "collapsed": false,
    "ExecuteTime": {
     "end_time": "2024-12-12T19:55:35.953693300Z",
     "start_time": "2024-12-12T19:55:35.934877700Z"
    }
   },
   "id": "f3f3bb8fcc6afe1d"
  },
  {
   "cell_type": "code",
   "execution_count": 100,
   "outputs": [],
   "source": [],
   "metadata": {
    "collapsed": false,
    "ExecuteTime": {
     "end_time": "2024-12-12T19:55:36.577694300Z",
     "start_time": "2024-12-12T19:55:36.560844600Z"
    }
   },
   "id": "4b373855f35603a2"
  },
  {
   "cell_type": "code",
   "execution_count": 101,
   "outputs": [
    {
     "data": {
      "text/plain": "  Report Date                  Load Type               Load Time  Load Weight  \\\n0  12/08/2020                       BULK  12/08/2020 03:02:00 PM       5220.0   \n2  12/03/2020  RECYCLING - SINGLE STREAM  12/03/2020 10:34:00 AM      10060.0   \n4  12/07/2020                   SWEEPING  12/07/2020 10:15:00 AM       7100.0   \n6  12/04/2020        GARBAGE COLLECTIONS  12/04/2020 01:01:00 PM      22720.0   \n7  12/08/2020                       BULK  12/08/2020 12:37:00 PM       7700.0   \n\n         Dropoff Site                 Route Type                    conditions  \n0        TDS LANDFILL                       BULK                      Overcast  \n2  BALCONES RECYCLING  RECYCLING - SINGLE STREAM              Partially cloudy  \n4        TDS LANDFILL          SWEEPER DUMPSITES                         Clear  \n6        TDS LANDFILL         GARBAGE COLLECTION  Snow, Rain, Partially cloudy  \n7        TDS LANDFILL                       BULK        Rain, Partially cloudy  ",
      "text/html": "<div>\n<style scoped>\n    .dataframe tbody tr th:only-of-type {\n        vertical-align: middle;\n    }\n\n    .dataframe tbody tr th {\n        vertical-align: top;\n    }\n\n    .dataframe thead th {\n        text-align: right;\n    }\n</style>\n<table border=\"1\" class=\"dataframe\">\n  <thead>\n    <tr style=\"text-align: right;\">\n      <th></th>\n      <th>Report Date</th>\n      <th>Load Type</th>\n      <th>Load Time</th>\n      <th>Load Weight</th>\n      <th>Dropoff Site</th>\n      <th>Route Type</th>\n      <th>conditions</th>\n    </tr>\n  </thead>\n  <tbody>\n    <tr>\n      <th>0</th>\n      <td>12/08/2020</td>\n      <td>BULK</td>\n      <td>12/08/2020 03:02:00 PM</td>\n      <td>5220.0</td>\n      <td>TDS LANDFILL</td>\n      <td>BULK</td>\n      <td>Overcast</td>\n    </tr>\n    <tr>\n      <th>2</th>\n      <td>12/03/2020</td>\n      <td>RECYCLING - SINGLE STREAM</td>\n      <td>12/03/2020 10:34:00 AM</td>\n      <td>10060.0</td>\n      <td>BALCONES RECYCLING</td>\n      <td>RECYCLING - SINGLE STREAM</td>\n      <td>Partially cloudy</td>\n    </tr>\n    <tr>\n      <th>4</th>\n      <td>12/07/2020</td>\n      <td>SWEEPING</td>\n      <td>12/07/2020 10:15:00 AM</td>\n      <td>7100.0</td>\n      <td>TDS LANDFILL</td>\n      <td>SWEEPER DUMPSITES</td>\n      <td>Clear</td>\n    </tr>\n    <tr>\n      <th>6</th>\n      <td>12/04/2020</td>\n      <td>GARBAGE COLLECTIONS</td>\n      <td>12/04/2020 01:01:00 PM</td>\n      <td>22720.0</td>\n      <td>TDS LANDFILL</td>\n      <td>GARBAGE COLLECTION</td>\n      <td>Snow, Rain, Partially cloudy</td>\n    </tr>\n    <tr>\n      <th>7</th>\n      <td>12/08/2020</td>\n      <td>BULK</td>\n      <td>12/08/2020 12:37:00 PM</td>\n      <td>7700.0</td>\n      <td>TDS LANDFILL</td>\n      <td>BULK</td>\n      <td>Rain, Partially cloudy</td>\n    </tr>\n  </tbody>\n</table>\n</div>"
     },
     "execution_count": 101,
     "metadata": {},
     "output_type": "execute_result"
    }
   ],
   "source": [
    "import numpy as np\n",
    "\n",
    "# List of possible values to fill NaN\n",
    "possible_conditions = ['Partially cloudy', 'Rain, Overcast', 'Rain, Partially cloudy', 'Clear',\n",
    "                       'Snow, Rain, Overcast', 'Snow, Rain, Partially cloudy', 'Overcast', 'Snow, Rain']\n",
    "\n",
    "# Replace NaN values in 'conditions' with random values from the list\n",
    "data['conditions'] = data['conditions'].apply(lambda x: np.random.choice(possible_conditions) if pd.isna(x) else x)\n",
    "\n",
    "# Display the first few rows of the updated DataFrame\n",
    "data.head()"
   ],
   "metadata": {
    "collapsed": false,
    "ExecuteTime": {
     "end_time": "2024-12-12T19:55:37.241536200Z",
     "start_time": "2024-12-12T19:55:37.047772Z"
    }
   },
   "id": "4d6ceb8f9af9ddf7"
  },
  {
   "cell_type": "code",
   "execution_count": 102,
   "outputs": [],
   "source": [
    "data.to_csv('final_waste_collection_data.csv', index=False)"
   ],
   "metadata": {
    "collapsed": false,
    "ExecuteTime": {
     "end_time": "2024-12-12T19:55:37.654555Z",
     "start_time": "2024-12-12T19:55:37.591174200Z"
    }
   },
   "id": "fa2c44cf29a4e501"
  },
  {
   "cell_type": "code",
   "execution_count": 102,
   "outputs": [],
   "source": [],
   "metadata": {
    "collapsed": false,
    "ExecuteTime": {
     "end_time": "2024-12-12T19:55:38.326124200Z",
     "start_time": "2024-12-12T19:55:38.309098500Z"
    }
   },
   "id": "4dc21e87cff82a2"
  },
  {
   "cell_type": "markdown",
   "source": [
    "Traffic operation"
   ],
   "metadata": {
    "collapsed": false
   },
   "id": "c6727c8f63ee48c1"
  },
  {
   "cell_type": "code",
   "execution_count": 103,
   "outputs": [
    {
     "name": "stdout",
     "output_type": "stream",
     "text": [
      "1311515\n",
      "Index(['DATE_TIME', 'LONGITUDE', 'LATITUDE', 'GEOHASH', 'MINIMUM_SPEED',\n",
      "       'MAXIMUM_SPEED', 'AVERAGE_SPEED', 'NUMBER_OF_VEHICLES'],\n",
      "      dtype='object')\n"
     ]
    }
   ],
   "source": [
    "# Load the file\n",
    "traffic_file_path = 'traffic_density_202003/traffic_density_202003.csv'\n",
    "traffic_data = pd.read_csv(traffic_file_path)\n",
    "traffic_data.head()\n",
    "\n",
    "traffic_data['DATE_TIME'] = pd.to_datetime(traffic_data['DATE_TIME']).dt.strftime('%m/%d/%Y')\n",
    "\n",
    "#filter data based on date\n",
    "\n",
    "start_date = \"01/01/2020\"\n",
    "end_date = \"12/31/2020\"\n",
    "traffic_data = traffic_data[(traffic_data[\"DATE_TIME\"] >= start_date) & (traffic_data[\"DATE_TIME\"] <= end_date)]\n",
    "\n",
    "print(len(traffic_data))\n",
    "print(traffic_data.columns)\n"
   ],
   "metadata": {
    "collapsed": false,
    "ExecuteTime": {
     "end_time": "2024-12-12T19:55:43.851337100Z",
     "start_time": "2024-12-12T19:55:39.091636600Z"
    }
   },
   "id": "e4c968828e9b4d77"
  },
  {
   "cell_type": "code",
   "execution_count": 104,
   "outputs": [
    {
     "data": {
      "text/plain": "    DATE_TIME  LONGITUDE   LATITUDE GEOHASH  MINIMUM_SPEED  MAXIMUM_SPEED  \\\n0  03/18/2020  28.954468  41.108093  sxk9fg             50            110   \n1  03/17/2020  29.218140  41.190491  sxkf2f             46            105   \n2  03/08/2020  29.393921  40.794983  sxkbhf             34            147   \n3  03/20/2020  28.657837  41.245422  sxk6sh             58            145   \n4  03/30/2020  29.284058  40.855408  sxkb6m             22            114   \n\n   AVERAGE_SPEED  NUMBER_OF_VEHICLES  \n0             76                 138  \n1             79                  18  \n2             91                 125  \n3             84                  41  \n4             79                  87  ",
      "text/html": "<div>\n<style scoped>\n    .dataframe tbody tr th:only-of-type {\n        vertical-align: middle;\n    }\n\n    .dataframe tbody tr th {\n        vertical-align: top;\n    }\n\n    .dataframe thead th {\n        text-align: right;\n    }\n</style>\n<table border=\"1\" class=\"dataframe\">\n  <thead>\n    <tr style=\"text-align: right;\">\n      <th></th>\n      <th>DATE_TIME</th>\n      <th>LONGITUDE</th>\n      <th>LATITUDE</th>\n      <th>GEOHASH</th>\n      <th>MINIMUM_SPEED</th>\n      <th>MAXIMUM_SPEED</th>\n      <th>AVERAGE_SPEED</th>\n      <th>NUMBER_OF_VEHICLES</th>\n    </tr>\n  </thead>\n  <tbody>\n    <tr>\n      <th>0</th>\n      <td>03/18/2020</td>\n      <td>28.954468</td>\n      <td>41.108093</td>\n      <td>sxk9fg</td>\n      <td>50</td>\n      <td>110</td>\n      <td>76</td>\n      <td>138</td>\n    </tr>\n    <tr>\n      <th>1</th>\n      <td>03/17/2020</td>\n      <td>29.218140</td>\n      <td>41.190491</td>\n      <td>sxkf2f</td>\n      <td>46</td>\n      <td>105</td>\n      <td>79</td>\n      <td>18</td>\n    </tr>\n    <tr>\n      <th>2</th>\n      <td>03/08/2020</td>\n      <td>29.393921</td>\n      <td>40.794983</td>\n      <td>sxkbhf</td>\n      <td>34</td>\n      <td>147</td>\n      <td>91</td>\n      <td>125</td>\n    </tr>\n    <tr>\n      <th>3</th>\n      <td>03/20/2020</td>\n      <td>28.657837</td>\n      <td>41.245422</td>\n      <td>sxk6sh</td>\n      <td>58</td>\n      <td>145</td>\n      <td>84</td>\n      <td>41</td>\n    </tr>\n    <tr>\n      <th>4</th>\n      <td>03/30/2020</td>\n      <td>29.284058</td>\n      <td>40.855408</td>\n      <td>sxkb6m</td>\n      <td>22</td>\n      <td>114</td>\n      <td>79</td>\n      <td>87</td>\n    </tr>\n  </tbody>\n</table>\n</div>"
     },
     "execution_count": 104,
     "metadata": {},
     "output_type": "execute_result"
    }
   ],
   "source": [
    "traffic_data.head()"
   ],
   "metadata": {
    "collapsed": false,
    "ExecuteTime": {
     "end_time": "2024-12-12T19:55:46.608135100Z",
     "start_time": "2024-12-12T19:55:46.598101200Z"
    }
   },
   "id": "f422db079f560c44"
  },
  {
   "cell_type": "code",
   "execution_count": 104,
   "outputs": [],
   "source": [],
   "metadata": {
    "collapsed": false,
    "ExecuteTime": {
     "end_time": "2024-12-12T19:55:47.598170700Z",
     "start_time": "2024-12-12T19:55:47.596150Z"
    }
   },
   "id": "ff6b66ded81eacb4"
  },
  {
   "cell_type": "code",
   "execution_count": 105,
   "outputs": [
    {
     "name": "stderr",
     "output_type": "stream",
     "text": [
      "C:\\Users\\shekh\\AppData\\Local\\Temp\\ipykernel_72684\\1374980786.py:24: SettingWithCopyWarning: \n",
      "A value is trying to be set on a copy of a slice from a DataFrame.\n",
      "Try using .loc[row_indexer,col_indexer] = value instead\n",
      "\n",
      "See the caveats in the documentation: https://pandas.pydata.org/pandas-docs/stable/user_guide/indexing.html#returning-a-view-versus-a-copy\n",
      "  filtered_traffic_data['location'] = filtered_traffic_data.apply(get_location, axis=1)\n"
     ]
    },
    {
     "data": {
      "text/plain": "       DATE_TIME  LONGITUDE   LATITUDE GEOHASH  MINIMUM_SPEED  MAXIMUM_SPEED  \\\n494   03/04/2020  29.042358  41.113586  sxk9uu              6             75   \n849   03/05/2020  28.690796  41.058655  sxk3sf              6            114   \n1829  03/07/2020  28.460083  41.163025  sxk4pt             33            132   \n2335  03/03/2020  28.460083  41.163025  sxk4pt             15            107   \n2687  03/19/2020  29.207153  41.042175  sxkc2x             80            109   \n\n      AVERAGE_SPEED  NUMBER_OF_VEHICLES            location  \n494              44                  62  BALCONES RECYCLING  \n849              47                 301        TDS LANDFILL  \n1829             57                  37       BURGER CENTER  \n2335             44                  34       BURGER CENTER  \n2687             96                  12        HORNSBY BEND  ",
      "text/html": "<div>\n<style scoped>\n    .dataframe tbody tr th:only-of-type {\n        vertical-align: middle;\n    }\n\n    .dataframe tbody tr th {\n        vertical-align: top;\n    }\n\n    .dataframe thead th {\n        text-align: right;\n    }\n</style>\n<table border=\"1\" class=\"dataframe\">\n  <thead>\n    <tr style=\"text-align: right;\">\n      <th></th>\n      <th>DATE_TIME</th>\n      <th>LONGITUDE</th>\n      <th>LATITUDE</th>\n      <th>GEOHASH</th>\n      <th>MINIMUM_SPEED</th>\n      <th>MAXIMUM_SPEED</th>\n      <th>AVERAGE_SPEED</th>\n      <th>NUMBER_OF_VEHICLES</th>\n      <th>location</th>\n    </tr>\n  </thead>\n  <tbody>\n    <tr>\n      <th>494</th>\n      <td>03/04/2020</td>\n      <td>29.042358</td>\n      <td>41.113586</td>\n      <td>sxk9uu</td>\n      <td>6</td>\n      <td>75</td>\n      <td>44</td>\n      <td>62</td>\n      <td>BALCONES RECYCLING</td>\n    </tr>\n    <tr>\n      <th>849</th>\n      <td>03/05/2020</td>\n      <td>28.690796</td>\n      <td>41.058655</td>\n      <td>sxk3sf</td>\n      <td>6</td>\n      <td>114</td>\n      <td>47</td>\n      <td>301</td>\n      <td>TDS LANDFILL</td>\n    </tr>\n    <tr>\n      <th>1829</th>\n      <td>03/07/2020</td>\n      <td>28.460083</td>\n      <td>41.163025</td>\n      <td>sxk4pt</td>\n      <td>33</td>\n      <td>132</td>\n      <td>57</td>\n      <td>37</td>\n      <td>BURGER CENTER</td>\n    </tr>\n    <tr>\n      <th>2335</th>\n      <td>03/03/2020</td>\n      <td>28.460083</td>\n      <td>41.163025</td>\n      <td>sxk4pt</td>\n      <td>15</td>\n      <td>107</td>\n      <td>44</td>\n      <td>34</td>\n      <td>BURGER CENTER</td>\n    </tr>\n    <tr>\n      <th>2687</th>\n      <td>03/19/2020</td>\n      <td>29.207153</td>\n      <td>41.042175</td>\n      <td>sxkc2x</td>\n      <td>80</td>\n      <td>109</td>\n      <td>96</td>\n      <td>12</td>\n      <td>HORNSBY BEND</td>\n    </tr>\n  </tbody>\n</table>\n</div>"
     },
     "execution_count": 105,
     "metadata": {},
     "output_type": "execute_result"
    }
   ],
   "source": [
    "# Filter the traffic_data DataFrame based on multiple LONGITUDE and LATITUDE pairs\n",
    "filtered_traffic_data = traffic_data[\n",
    "    ((traffic_data['LONGITUDE'] == 27.9766845703125) & (traffic_data['LATITUDE'] == 40.9872436523438)) |\n",
    "    ((traffic_data['LONGITUDE'] == 28.6907958984375) & (traffic_data['LATITUDE'] == 41.0586547851562)) |\n",
    "    ((traffic_data['LONGITUDE'] == 28.4600830078125) & (traffic_data['LATITUDE'] == 41.1630249023438)) |\n",
    "    ((traffic_data['LONGITUDE'] == 29.0423583984375) & (traffic_data['LATITUDE'] == 41.1135864257812)) |\n",
    "    ((traffic_data['LONGITUDE'] == 29.2071533203125) & (traffic_data['LATITUDE'] == 41.0421752929688))\n",
    "]\n",
    "\n",
    "# Create a mapping dictionary for LONGITUDE and LATITUDE pairs to location\n",
    "location_mapping = {\n",
    "    (27.9766845703125, 40.9872436523438): 'ELMONT',\n",
    "    (28.6907958984375, 41.0586547851562): 'TDS LANDFILL',\n",
    "    (28.4600830078125, 41.1630249023438): 'BURGER CENTER',\n",
    "    (29.0423583984375, 41.1135864257812): 'BALCONES RECYCLING',\n",
    "    (29.2071533203125, 41.0421752929688): 'HORNSBY BEND'\n",
    "}\n",
    "\n",
    "# Define a function to map LONGITUDE and LATITUDE to location\n",
    "def get_location(row):\n",
    "    return location_mapping.get((row['LONGITUDE'], row['LATITUDE']), None)\n",
    "\n",
    "# Apply the function to create a new 'location' column in the filtered_traffic_data DataFrame\n",
    "filtered_traffic_data['location'] = filtered_traffic_data.apply(get_location, axis=1)\n",
    "\n",
    "# Display the first few rows of the updated DataFrame\n",
    "filtered_traffic_data.head()"
   ],
   "metadata": {
    "collapsed": false,
    "ExecuteTime": {
     "end_time": "2024-12-12T19:55:48.166169100Z",
     "start_time": "2024-12-12T19:55:48.126170Z"
    }
   },
   "id": "77885ca090668ac5"
  },
  {
   "cell_type": "code",
   "execution_count": 106,
   "outputs": [
    {
     "name": "stderr",
     "output_type": "stream",
     "text": [
      "C:\\Users\\shekh\\AppData\\Local\\Temp\\ipykernel_72684\\3959588105.py:2: SettingWithCopyWarning: \n",
      "A value is trying to be set on a copy of a slice from a DataFrame.\n",
      "Try using .loc[row_indexer,col_indexer] = value instead\n",
      "\n",
      "See the caveats in the documentation: https://pandas.pydata.org/pandas-docs/stable/user_guide/indexing.html#returning-a-view-versus-a-copy\n",
      "  filtered_traffic_data['new_column'] = ''\n"
     ]
    },
    {
     "data": {
      "text/plain": "       DATE_TIME  LONGITUDE   LATITUDE GEOHASH  MINIMUM_SPEED  MAXIMUM_SPEED  \\\n494   03/04/2020  29.042358  41.113586  sxk9uu              6             75   \n849   03/05/2020  28.690796  41.058655  sxk3sf              6            114   \n1829  03/07/2020  28.460083  41.163025  sxk4pt             33            132   \n2335  03/03/2020  28.460083  41.163025  sxk4pt             15            107   \n2687  03/19/2020  29.207153  41.042175  sxkc2x             80            109   \n\n      AVERAGE_SPEED  NUMBER_OF_VEHICLES            location new_column  \n494              44                  62  BALCONES RECYCLING             \n849              47                 301        TDS LANDFILL             \n1829             57                  37       BURGER CENTER             \n2335             44                  34       BURGER CENTER             \n2687             96                  12        HORNSBY BEND             ",
      "text/html": "<div>\n<style scoped>\n    .dataframe tbody tr th:only-of-type {\n        vertical-align: middle;\n    }\n\n    .dataframe tbody tr th {\n        vertical-align: top;\n    }\n\n    .dataframe thead th {\n        text-align: right;\n    }\n</style>\n<table border=\"1\" class=\"dataframe\">\n  <thead>\n    <tr style=\"text-align: right;\">\n      <th></th>\n      <th>DATE_TIME</th>\n      <th>LONGITUDE</th>\n      <th>LATITUDE</th>\n      <th>GEOHASH</th>\n      <th>MINIMUM_SPEED</th>\n      <th>MAXIMUM_SPEED</th>\n      <th>AVERAGE_SPEED</th>\n      <th>NUMBER_OF_VEHICLES</th>\n      <th>location</th>\n      <th>new_column</th>\n    </tr>\n  </thead>\n  <tbody>\n    <tr>\n      <th>494</th>\n      <td>03/04/2020</td>\n      <td>29.042358</td>\n      <td>41.113586</td>\n      <td>sxk9uu</td>\n      <td>6</td>\n      <td>75</td>\n      <td>44</td>\n      <td>62</td>\n      <td>BALCONES RECYCLING</td>\n      <td></td>\n    </tr>\n    <tr>\n      <th>849</th>\n      <td>03/05/2020</td>\n      <td>28.690796</td>\n      <td>41.058655</td>\n      <td>sxk3sf</td>\n      <td>6</td>\n      <td>114</td>\n      <td>47</td>\n      <td>301</td>\n      <td>TDS LANDFILL</td>\n      <td></td>\n    </tr>\n    <tr>\n      <th>1829</th>\n      <td>03/07/2020</td>\n      <td>28.460083</td>\n      <td>41.163025</td>\n      <td>sxk4pt</td>\n      <td>33</td>\n      <td>132</td>\n      <td>57</td>\n      <td>37</td>\n      <td>BURGER CENTER</td>\n      <td></td>\n    </tr>\n    <tr>\n      <th>2335</th>\n      <td>03/03/2020</td>\n      <td>28.460083</td>\n      <td>41.163025</td>\n      <td>sxk4pt</td>\n      <td>15</td>\n      <td>107</td>\n      <td>44</td>\n      <td>34</td>\n      <td>BURGER CENTER</td>\n      <td></td>\n    </tr>\n    <tr>\n      <th>2687</th>\n      <td>03/19/2020</td>\n      <td>29.207153</td>\n      <td>41.042175</td>\n      <td>sxkc2x</td>\n      <td>80</td>\n      <td>109</td>\n      <td>96</td>\n      <td>12</td>\n      <td>HORNSBY BEND</td>\n      <td></td>\n    </tr>\n  </tbody>\n</table>\n</div>"
     },
     "execution_count": 106,
     "metadata": {},
     "output_type": "execute_result"
    }
   ],
   "source": [
    "# Add a new column 'new_column' with empty values to the filtered_traffic_data DataFrame\n",
    "filtered_traffic_data['new_column'] = ''\n",
    "\n",
    "# Display the first few rows of the updated DataFrame\n",
    "filtered_traffic_data.head()"
   ],
   "metadata": {
    "collapsed": false,
    "ExecuteTime": {
     "end_time": "2024-12-12T19:55:48.585209Z",
     "start_time": "2024-12-12T19:55:48.576204100Z"
    }
   },
   "id": "1c26a78eba968751"
  },
  {
   "cell_type": "markdown",
   "source": [
    "Formula Design\n",
    "Normalized Metrics\n",
    "Normalize Minimum Speed, Maximum Speed, and Number of Vehicles to bring them to a comparable range (e.g., 0 to 1):\n",
    "\n",
    "\\text{Norm}_\\text{value} = \\frac{\\text{value} - \\text{min_value}}{\\text{max_value} - \\text{min_value}}\n",
    "Assign weights to the normalized values based on their impact:\n",
    "\n",
    "W_{min_speed}: Weight for minimum speed (e.g., 0.4).\n",
    "W_{max_speed}: Weight for maximum speed (e.g., 0.3).\n",
    "W_{num_vehicles}: Weight for the number of vehicles (e.g., 0.3).\n",
    "TrafficCondition Score\n",
    "Calculate a weighted score:\n",
    "\n",
    "\\text{Score} = (1 - \\text{Norm}_{\\text{min_speed}}) \\cdot W_{min_speed} + \\text{Norm}_{\\text{num_vehicles}} \\cdot W_{num_vehicles} - \\text{Norm}_{\\text{max_speed}} \\cdot W_{max_speed}\n",
    "Assign TrafficCondition\n",
    "Use thresholds to assign conditions:\n",
    "\n",
    "High Traffic: \n",
    "Score\n",
    ">\n",
    "0.7\n",
    "Score>0.7\n",
    "Medium Traffic: \n",
    "0.4\n",
    "≤\n",
    "Score\n",
    "≤\n",
    "0.7\n",
    "0.4≤Score≤0.7\n",
    "Low Traffic: \n",
    "Score\n",
    "<\n",
    "0.4\n",
    "Score<0.4"
   ],
   "metadata": {
    "collapsed": false
   },
   "id": "7cb8d0b78a6f4318"
  },
  {
   "cell_type": "code",
   "execution_count": 107,
   "outputs": [
    {
     "name": "stderr",
     "output_type": "stream",
     "text": [
      "C:\\Users\\shekh\\AppData\\Local\\Temp\\ipykernel_72684\\1625943711.py:6: SettingWithCopyWarning: \n",
      "A value is trying to be set on a copy of a slice from a DataFrame.\n",
      "Try using .loc[row_indexer,col_indexer] = value instead\n",
      "\n",
      "See the caveats in the documentation: https://pandas.pydata.org/pandas-docs/stable/user_guide/indexing.html#returning-a-view-versus-a-copy\n",
      "  filtered_traffic_data['Norm_MinSpeed'] = filtered_traffic_data['MINIMUM_SPEED'].apply(\n",
      "C:\\Users\\shekh\\AppData\\Local\\Temp\\ipykernel_72684\\1625943711.py:10: SettingWithCopyWarning: \n",
      "A value is trying to be set on a copy of a slice from a DataFrame.\n",
      "Try using .loc[row_indexer,col_indexer] = value instead\n",
      "\n",
      "See the caveats in the documentation: https://pandas.pydata.org/pandas-docs/stable/user_guide/indexing.html#returning-a-view-versus-a-copy\n",
      "  filtered_traffic_data['Norm_MaxSpeed'] = filtered_traffic_data['MAXIMUM_SPEED'].apply(\n",
      "C:\\Users\\shekh\\AppData\\Local\\Temp\\ipykernel_72684\\1625943711.py:14: SettingWithCopyWarning: \n",
      "A value is trying to be set on a copy of a slice from a DataFrame.\n",
      "Try using .loc[row_indexer,col_indexer] = value instead\n",
      "\n",
      "See the caveats in the documentation: https://pandas.pydata.org/pandas-docs/stable/user_guide/indexing.html#returning-a-view-versus-a-copy\n",
      "  filtered_traffic_data['Norm_NumVehicles'] = filtered_traffic_data['NUMBER_OF_VEHICLES'].apply(\n",
      "C:\\Users\\shekh\\AppData\\Local\\Temp\\ipykernel_72684\\1625943711.py:25: SettingWithCopyWarning: \n",
      "A value is trying to be set on a copy of a slice from a DataFrame.\n",
      "Try using .loc[row_indexer,col_indexer] = value instead\n",
      "\n",
      "See the caveats in the documentation: https://pandas.pydata.org/pandas-docs/stable/user_guide/indexing.html#returning-a-view-versus-a-copy\n",
      "  filtered_traffic_data['TrafficScore'] = (1 - filtered_traffic_data['Norm_MinSpeed']) * W_min_speed + \\\n",
      "C:\\Users\\shekh\\AppData\\Local\\Temp\\ipykernel_72684\\1625943711.py:39: SettingWithCopyWarning: \n",
      "A value is trying to be set on a copy of a slice from a DataFrame.\n",
      "Try using .loc[row_indexer,col_indexer] = value instead\n",
      "\n",
      "See the caveats in the documentation: https://pandas.pydata.org/pandas-docs/stable/user_guide/indexing.html#returning-a-view-versus-a-copy\n",
      "  filtered_traffic_data['TrafficCondition'] = filtered_traffic_data['TrafficScore'].apply(assign_condition)\n"
     ]
    },
    {
     "data": {
      "text/plain": "       DATE_TIME  LONGITUDE   LATITUDE GEOHASH  MINIMUM_SPEED  MAXIMUM_SPEED  \\\n494   03/04/2020  29.042358  41.113586  sxk9uu              6             75   \n849   03/05/2020  28.690796  41.058655  sxk3sf              6            114   \n1829  03/07/2020  28.460083  41.163025  sxk4pt             33            132   \n2335  03/03/2020  28.460083  41.163025  sxk4pt             15            107   \n2687  03/19/2020  29.207153  41.042175  sxkc2x             80            109   \n\n      AVERAGE_SPEED  NUMBER_OF_VEHICLES            location new_column  \\\n494              44                  62  BALCONES RECYCLING              \n849              47                 301        TDS LANDFILL              \n1829             57                  37       BURGER CENTER              \n2335             44                  34       BURGER CENTER              \n2687             96                  12        HORNSBY BEND              \n\n      Norm_MinSpeed  Norm_MaxSpeed  Norm_NumVehicles  TrafficScore  \\\n494        0.021739       0.125000          0.068826      0.374452   \n849        0.021739       0.357143          0.391363      0.401570   \n1829       0.315217       0.464286          0.035088      0.145154   \n2335       0.119565       0.315476          0.031039      0.266843   \n2687       0.826087       0.327381          0.001350     -0.028244   \n\n     TrafficCondition  \n494               Low  \n849            Medium  \n1829              Low  \n2335              Low  \n2687              Low  ",
      "text/html": "<div>\n<style scoped>\n    .dataframe tbody tr th:only-of-type {\n        vertical-align: middle;\n    }\n\n    .dataframe tbody tr th {\n        vertical-align: top;\n    }\n\n    .dataframe thead th {\n        text-align: right;\n    }\n</style>\n<table border=\"1\" class=\"dataframe\">\n  <thead>\n    <tr style=\"text-align: right;\">\n      <th></th>\n      <th>DATE_TIME</th>\n      <th>LONGITUDE</th>\n      <th>LATITUDE</th>\n      <th>GEOHASH</th>\n      <th>MINIMUM_SPEED</th>\n      <th>MAXIMUM_SPEED</th>\n      <th>AVERAGE_SPEED</th>\n      <th>NUMBER_OF_VEHICLES</th>\n      <th>location</th>\n      <th>new_column</th>\n      <th>Norm_MinSpeed</th>\n      <th>Norm_MaxSpeed</th>\n      <th>Norm_NumVehicles</th>\n      <th>TrafficScore</th>\n      <th>TrafficCondition</th>\n    </tr>\n  </thead>\n  <tbody>\n    <tr>\n      <th>494</th>\n      <td>03/04/2020</td>\n      <td>29.042358</td>\n      <td>41.113586</td>\n      <td>sxk9uu</td>\n      <td>6</td>\n      <td>75</td>\n      <td>44</td>\n      <td>62</td>\n      <td>BALCONES RECYCLING</td>\n      <td></td>\n      <td>0.021739</td>\n      <td>0.125000</td>\n      <td>0.068826</td>\n      <td>0.374452</td>\n      <td>Low</td>\n    </tr>\n    <tr>\n      <th>849</th>\n      <td>03/05/2020</td>\n      <td>28.690796</td>\n      <td>41.058655</td>\n      <td>sxk3sf</td>\n      <td>6</td>\n      <td>114</td>\n      <td>47</td>\n      <td>301</td>\n      <td>TDS LANDFILL</td>\n      <td></td>\n      <td>0.021739</td>\n      <td>0.357143</td>\n      <td>0.391363</td>\n      <td>0.401570</td>\n      <td>Medium</td>\n    </tr>\n    <tr>\n      <th>1829</th>\n      <td>03/07/2020</td>\n      <td>28.460083</td>\n      <td>41.163025</td>\n      <td>sxk4pt</td>\n      <td>33</td>\n      <td>132</td>\n      <td>57</td>\n      <td>37</td>\n      <td>BURGER CENTER</td>\n      <td></td>\n      <td>0.315217</td>\n      <td>0.464286</td>\n      <td>0.035088</td>\n      <td>0.145154</td>\n      <td>Low</td>\n    </tr>\n    <tr>\n      <th>2335</th>\n      <td>03/03/2020</td>\n      <td>28.460083</td>\n      <td>41.163025</td>\n      <td>sxk4pt</td>\n      <td>15</td>\n      <td>107</td>\n      <td>44</td>\n      <td>34</td>\n      <td>BURGER CENTER</td>\n      <td></td>\n      <td>0.119565</td>\n      <td>0.315476</td>\n      <td>0.031039</td>\n      <td>0.266843</td>\n      <td>Low</td>\n    </tr>\n    <tr>\n      <th>2687</th>\n      <td>03/19/2020</td>\n      <td>29.207153</td>\n      <td>41.042175</td>\n      <td>sxkc2x</td>\n      <td>80</td>\n      <td>109</td>\n      <td>96</td>\n      <td>12</td>\n      <td>HORNSBY BEND</td>\n      <td></td>\n      <td>0.826087</td>\n      <td>0.327381</td>\n      <td>0.001350</td>\n      <td>-0.028244</td>\n      <td>Low</td>\n    </tr>\n  </tbody>\n</table>\n</div>"
     },
     "execution_count": 107,
     "metadata": {},
     "output_type": "execute_result"
    }
   ],
   "source": [
    "# Define the normalize function\n",
    "def normalize(value, min_value, max_value):\n",
    "    return (value - min_value) / (max_value - min_value)\n",
    "\n",
    "# Add new columns with normalized values\n",
    "filtered_traffic_data['Norm_MinSpeed'] = filtered_traffic_data['MINIMUM_SPEED'].apply(\n",
    "    lambda x: normalize(x, filtered_traffic_data['MINIMUM_SPEED'].min(), filtered_traffic_data['MINIMUM_SPEED'].max())\n",
    ")\n",
    "\n",
    "filtered_traffic_data['Norm_MaxSpeed'] = filtered_traffic_data['MAXIMUM_SPEED'].apply(\n",
    "    lambda x: normalize(x, filtered_traffic_data['MAXIMUM_SPEED'].min(), filtered_traffic_data['MAXIMUM_SPEED'].max())\n",
    ")\n",
    "\n",
    "filtered_traffic_data['Norm_NumVehicles'] = filtered_traffic_data['NUMBER_OF_VEHICLES'].apply(\n",
    "    lambda x: normalize(x, filtered_traffic_data['NUMBER_OF_VEHICLES'].min(), filtered_traffic_data['NUMBER_OF_VEHICLES'].max())\n",
    ")\n",
    "\n",
    "\n",
    "# Define weights\n",
    "W_min_speed = 0.4\n",
    "W_max_speed = 0.3\n",
    "W_num_vehicles = 0.3\n",
    "\n",
    "# Calculate TrafficScore\n",
    "filtered_traffic_data['TrafficScore'] = (1 - filtered_traffic_data['Norm_MinSpeed']) * W_min_speed + \\\n",
    "                                        filtered_traffic_data['Norm_NumVehicles'] * W_num_vehicles - \\\n",
    "                                        filtered_traffic_data['Norm_MaxSpeed'] * W_max_speed\n",
    "\n",
    "# Define function to assign traffic condition\n",
    "def assign_condition(score):\n",
    "    if score > 0.7:\n",
    "        return \"High\"\n",
    "    elif score >= 0.4:\n",
    "        return \"Medium\"\n",
    "    else:\n",
    "        return \"Low\"\n",
    "\n",
    "# Assign TrafficCondition based on TrafficScore\n",
    "filtered_traffic_data['TrafficCondition'] = filtered_traffic_data['TrafficScore'].apply(assign_condition)\n",
    "\n",
    "#save the data in csv file\n",
    "filtered_traffic_data.to_csv('traffic_density_202003/final_traffic_data.csv', index=False)\n",
    "# Display the first few rows of the updated DataFrame\n",
    "filtered_traffic_data.head()"
   ],
   "metadata": {
    "collapsed": false,
    "ExecuteTime": {
     "end_time": "2024-12-12T19:55:49.917782700Z",
     "start_time": "2024-12-12T19:55:49.684907300Z"
    }
   },
   "id": "21ca7ece293ec764"
  },
  {
   "cell_type": "markdown",
   "source": [
    "Populate Norm_NumVehicles and TrafficCondition"
   ],
   "metadata": {
    "collapsed": false
   },
   "id": "b358dca4fbc94ad6"
  },
  {
   "cell_type": "code",
   "execution_count": 118,
   "outputs": [
    {
     "data": {
      "text/plain": "Index(['DATE_TIME', 'LONGITUDE', 'LATITUDE', 'GEOHASH', 'MINIMUM_SPEED',\n       'MAXIMUM_SPEED', 'AVERAGE_SPEED', 'NUMBER_OF_VEHICLES', 'location',\n       'new_column', 'Norm_MinSpeed', 'Norm_MaxSpeed', 'Norm_NumVehicles',\n       'TrafficScore', 'TrafficCondition'],\n      dtype='object')"
     },
     "execution_count": 118,
     "metadata": {},
     "output_type": "execute_result"
    }
   ],
   "source": [],
   "metadata": {
    "collapsed": false,
    "ExecuteTime": {
     "end_time": "2024-12-12T20:05:45.001583200Z",
     "start_time": "2024-12-12T20:05:44.980775200Z"
    }
   },
   "id": "157ce8a68192a252"
  },
  {
   "cell_type": "code",
   "execution_count": 115,
   "outputs": [
    {
     "data": {
      "text/plain": "  Report Date                  Load Type               Load Time  Load Weight  \\\n0  12/08/2020                       BULK  12/08/2020 03:02:00 PM       5220.0   \n2  12/03/2020  RECYCLING - SINGLE STREAM  12/03/2020 10:34:00 AM      10060.0   \n4  12/07/2020                   SWEEPING  12/07/2020 10:15:00 AM       7100.0   \n6  12/04/2020        GARBAGE COLLECTIONS  12/04/2020 01:01:00 PM      22720.0   \n7  12/08/2020                       BULK  12/08/2020 12:37:00 PM       7700.0   \n\n         Dropoff Site                 Route Type  \\\n0        TDS LANDFILL                       BULK   \n2  BALCONES RECYCLING  RECYCLING - SINGLE STREAM   \n4        TDS LANDFILL          SWEEPER DUMPSITES   \n6        TDS LANDFILL         GARBAGE COLLECTION   \n7        TDS LANDFILL                       BULK   \n\n                     conditions  LONGITUDE   LATITUDE  \n0                      Overcast  28.690796  41.058655  \n2              Partially cloudy  29.042358  41.113586  \n4                         Clear  28.690796  41.058655  \n6  Snow, Rain, Partially cloudy  28.690796  41.058655  \n7        Rain, Partially cloudy  28.690796  41.058655  ",
      "text/html": "<div>\n<style scoped>\n    .dataframe tbody tr th:only-of-type {\n        vertical-align: middle;\n    }\n\n    .dataframe tbody tr th {\n        vertical-align: top;\n    }\n\n    .dataframe thead th {\n        text-align: right;\n    }\n</style>\n<table border=\"1\" class=\"dataframe\">\n  <thead>\n    <tr style=\"text-align: right;\">\n      <th></th>\n      <th>Report Date</th>\n      <th>Load Type</th>\n      <th>Load Time</th>\n      <th>Load Weight</th>\n      <th>Dropoff Site</th>\n      <th>Route Type</th>\n      <th>conditions</th>\n      <th>LONGITUDE</th>\n      <th>LATITUDE</th>\n    </tr>\n  </thead>\n  <tbody>\n    <tr>\n      <th>0</th>\n      <td>12/08/2020</td>\n      <td>BULK</td>\n      <td>12/08/2020 03:02:00 PM</td>\n      <td>5220.0</td>\n      <td>TDS LANDFILL</td>\n      <td>BULK</td>\n      <td>Overcast</td>\n      <td>28.690796</td>\n      <td>41.058655</td>\n    </tr>\n    <tr>\n      <th>2</th>\n      <td>12/03/2020</td>\n      <td>RECYCLING - SINGLE STREAM</td>\n      <td>12/03/2020 10:34:00 AM</td>\n      <td>10060.0</td>\n      <td>BALCONES RECYCLING</td>\n      <td>RECYCLING - SINGLE STREAM</td>\n      <td>Partially cloudy</td>\n      <td>29.042358</td>\n      <td>41.113586</td>\n    </tr>\n    <tr>\n      <th>4</th>\n      <td>12/07/2020</td>\n      <td>SWEEPING</td>\n      <td>12/07/2020 10:15:00 AM</td>\n      <td>7100.0</td>\n      <td>TDS LANDFILL</td>\n      <td>SWEEPER DUMPSITES</td>\n      <td>Clear</td>\n      <td>28.690796</td>\n      <td>41.058655</td>\n    </tr>\n    <tr>\n      <th>6</th>\n      <td>12/04/2020</td>\n      <td>GARBAGE COLLECTIONS</td>\n      <td>12/04/2020 01:01:00 PM</td>\n      <td>22720.0</td>\n      <td>TDS LANDFILL</td>\n      <td>GARBAGE COLLECTION</td>\n      <td>Snow, Rain, Partially cloudy</td>\n      <td>28.690796</td>\n      <td>41.058655</td>\n    </tr>\n    <tr>\n      <th>7</th>\n      <td>12/08/2020</td>\n      <td>BULK</td>\n      <td>12/08/2020 12:37:00 PM</td>\n      <td>7700.0</td>\n      <td>TDS LANDFILL</td>\n      <td>BULK</td>\n      <td>Rain, Partially cloudy</td>\n      <td>28.690796</td>\n      <td>41.058655</td>\n    </tr>\n  </tbody>\n</table>\n</div>"
     },
     "execution_count": 115,
     "metadata": {},
     "output_type": "execute_result"
    }
   ],
   "source": [
    "# Define the mapping dictionary for Dropoff Site to LONGITUDE and LATITUDE\n",
    "location_mapping = {\n",
    "    'ELMONT': (27.9766845703125, 40.9872436523438),\n",
    "    'TDS LANDFILL': (28.6907958984375, 41.0586547851562),\n",
    "    'BURGER CENTER': (28.4600830078125, 41.1630249023438),\n",
    "    'BALCONES RECYCLING': (29.0423583984375, 41.1135864257812),\n",
    "    'HORNSBY BEND': (29.2071533203125, 41.0421752929688)\n",
    "}\n",
    "\n",
    "# Create new columns LONGITUDE and LATITUDE in the data DataFrame\n",
    "data['LONGITUDE'] = data['Dropoff Site'].map(lambda x: location_mapping[x][0] if x in location_mapping else None)\n",
    "data['LATITUDE'] = data['Dropoff Site'].map(lambda x: location_mapping[x][1] if x in location_mapping else None)\n",
    "\n",
    "# Display the first few rows of the updated DataFrame\n",
    "data.head()"
   ],
   "metadata": {
    "collapsed": false,
    "ExecuteTime": {
     "end_time": "2024-12-12T20:03:01.115494500Z",
     "start_time": "2024-12-12T20:03:01.090153900Z"
    }
   },
   "id": "3ea90709838b391a"
  },
  {
   "cell_type": "code",
   "execution_count": 121,
   "outputs": [
    {
     "data": {
      "text/plain": "  Report Date                  Load Type               Load Time  Load Weight  \\\n0  12/08/2020                       BULK  12/08/2020 03:02:00 PM       5220.0   \n2  12/03/2020  RECYCLING - SINGLE STREAM  12/03/2020 10:34:00 AM      10060.0   \n4  12/07/2020                   SWEEPING  12/07/2020 10:15:00 AM       7100.0   \n6  12/04/2020        GARBAGE COLLECTIONS  12/04/2020 01:01:00 PM      22720.0   \n7  12/08/2020                       BULK  12/08/2020 12:37:00 PM       7700.0   \n\n         Dropoff Site                 Route Type  \\\n0        TDS LANDFILL                       BULK   \n2  BALCONES RECYCLING  RECYCLING - SINGLE STREAM   \n4        TDS LANDFILL          SWEEPER DUMPSITES   \n6        TDS LANDFILL         GARBAGE COLLECTION   \n7        TDS LANDFILL                       BULK   \n\n                     conditions  LONGITUDE   LATITUDE TrafficCondition  \\\n0                      Overcast  28.690796  41.058655              NaN   \n2              Partially cloudy  29.042358  41.113586              NaN   \n4                         Clear  28.690796  41.058655              NaN   \n6  Snow, Rain, Partially cloudy  28.690796  41.058655              NaN   \n7        Rain, Partially cloudy  28.690796  41.058655              NaN   \n\n   Norm_NumVehicles  \n0               NaN  \n2               NaN  \n4               NaN  \n6               NaN  \n7               NaN  ",
      "text/html": "<div>\n<style scoped>\n    .dataframe tbody tr th:only-of-type {\n        vertical-align: middle;\n    }\n\n    .dataframe tbody tr th {\n        vertical-align: top;\n    }\n\n    .dataframe thead th {\n        text-align: right;\n    }\n</style>\n<table border=\"1\" class=\"dataframe\">\n  <thead>\n    <tr style=\"text-align: right;\">\n      <th></th>\n      <th>Report Date</th>\n      <th>Load Type</th>\n      <th>Load Time</th>\n      <th>Load Weight</th>\n      <th>Dropoff Site</th>\n      <th>Route Type</th>\n      <th>conditions</th>\n      <th>LONGITUDE</th>\n      <th>LATITUDE</th>\n      <th>TrafficCondition</th>\n      <th>Norm_NumVehicles</th>\n    </tr>\n  </thead>\n  <tbody>\n    <tr>\n      <th>0</th>\n      <td>12/08/2020</td>\n      <td>BULK</td>\n      <td>12/08/2020 03:02:00 PM</td>\n      <td>5220.0</td>\n      <td>TDS LANDFILL</td>\n      <td>BULK</td>\n      <td>Overcast</td>\n      <td>28.690796</td>\n      <td>41.058655</td>\n      <td>NaN</td>\n      <td>NaN</td>\n    </tr>\n    <tr>\n      <th>2</th>\n      <td>12/03/2020</td>\n      <td>RECYCLING - SINGLE STREAM</td>\n      <td>12/03/2020 10:34:00 AM</td>\n      <td>10060.0</td>\n      <td>BALCONES RECYCLING</td>\n      <td>RECYCLING - SINGLE STREAM</td>\n      <td>Partially cloudy</td>\n      <td>29.042358</td>\n      <td>41.113586</td>\n      <td>NaN</td>\n      <td>NaN</td>\n    </tr>\n    <tr>\n      <th>4</th>\n      <td>12/07/2020</td>\n      <td>SWEEPING</td>\n      <td>12/07/2020 10:15:00 AM</td>\n      <td>7100.0</td>\n      <td>TDS LANDFILL</td>\n      <td>SWEEPER DUMPSITES</td>\n      <td>Clear</td>\n      <td>28.690796</td>\n      <td>41.058655</td>\n      <td>NaN</td>\n      <td>NaN</td>\n    </tr>\n    <tr>\n      <th>6</th>\n      <td>12/04/2020</td>\n      <td>GARBAGE COLLECTIONS</td>\n      <td>12/04/2020 01:01:00 PM</td>\n      <td>22720.0</td>\n      <td>TDS LANDFILL</td>\n      <td>GARBAGE COLLECTION</td>\n      <td>Snow, Rain, Partially cloudy</td>\n      <td>28.690796</td>\n      <td>41.058655</td>\n      <td>NaN</td>\n      <td>NaN</td>\n    </tr>\n    <tr>\n      <th>7</th>\n      <td>12/08/2020</td>\n      <td>BULK</td>\n      <td>12/08/2020 12:37:00 PM</td>\n      <td>7700.0</td>\n      <td>TDS LANDFILL</td>\n      <td>BULK</td>\n      <td>Rain, Partially cloudy</td>\n      <td>28.690796</td>\n      <td>41.058655</td>\n      <td>NaN</td>\n      <td>NaN</td>\n    </tr>\n  </tbody>\n</table>\n</div>"
     },
     "execution_count": 121,
     "metadata": {},
     "output_type": "execute_result"
    }
   ],
   "source": [
    "\n",
    "merged_result = pd.merge(data, filtered_traffic_data, left_on=['LONGITUDE','LATITUDE', 'Report Date'], right_on=['LONGITUDE', 'LATITUDE','DATE_TIME'], how='left')\n",
    "\n",
    "# Select the relevant columns and add 'conditions' to the data DataFrame\n",
    "data['TrafficCondition'] = merged_result['TrafficCondition']\n",
    "data['Norm_NumVehicles'] = merged_result['Norm_NumVehicles']\n",
    "\n",
    "# Display the first few rows of the updated data DataFrame\n",
    "data.head()"
   ],
   "metadata": {
    "collapsed": false,
    "ExecuteTime": {
     "end_time": "2024-12-12T20:14:43.392873700Z",
     "start_time": "2024-12-12T20:14:43.335750400Z"
    }
   },
   "id": "321e8198239de724"
  },
  {
   "cell_type": "code",
   "execution_count": 133,
   "outputs": [
    {
     "data": {
      "text/plain": "  Report Date                  Load Type               Load Time  Load Weight  \\\n0  12/08/2020                       BULK  12/08/2020 03:02:00 PM       5220.0   \n2  12/03/2020  RECYCLING - SINGLE STREAM  12/03/2020 10:34:00 AM      10060.0   \n4  12/07/2020                   SWEEPING  12/07/2020 10:15:00 AM       7100.0   \n6  12/04/2020        GARBAGE COLLECTIONS  12/04/2020 01:01:00 PM      22720.0   \n7  12/08/2020                       BULK  12/08/2020 12:37:00 PM       7700.0   \n\n         Dropoff Site                 Route Type  \\\n0        TDS LANDFILL                       BULK   \n2  BALCONES RECYCLING  RECYCLING - SINGLE STREAM   \n4        TDS LANDFILL          SWEEPER DUMPSITES   \n6        TDS LANDFILL         GARBAGE COLLECTION   \n7        TDS LANDFILL                       BULK   \n\n                     conditions  LONGITUDE   LATITUDE TrafficCondition  \\\n0                      Overcast  28.690796  41.058655           Medium   \n2              Partially cloudy  29.042358  41.113586           Medium   \n4                         Clear  28.690796  41.058655           Medium   \n6  Snow, Rain, Partially cloudy  28.690796  41.058655           Medium   \n7        Rain, Partially cloudy  28.690796  41.058655           Medium   \n\n   Norm_NumVehicles  \n0          0.809555  \n2          0.948382  \n4          0.065881  \n6          0.037533  \n7          0.202373  ",
      "text/html": "<div>\n<style scoped>\n    .dataframe tbody tr th:only-of-type {\n        vertical-align: middle;\n    }\n\n    .dataframe tbody tr th {\n        vertical-align: top;\n    }\n\n    .dataframe thead th {\n        text-align: right;\n    }\n</style>\n<table border=\"1\" class=\"dataframe\">\n  <thead>\n    <tr style=\"text-align: right;\">\n      <th></th>\n      <th>Report Date</th>\n      <th>Load Type</th>\n      <th>Load Time</th>\n      <th>Load Weight</th>\n      <th>Dropoff Site</th>\n      <th>Route Type</th>\n      <th>conditions</th>\n      <th>LONGITUDE</th>\n      <th>LATITUDE</th>\n      <th>TrafficCondition</th>\n      <th>Norm_NumVehicles</th>\n    </tr>\n  </thead>\n  <tbody>\n    <tr>\n      <th>0</th>\n      <td>12/08/2020</td>\n      <td>BULK</td>\n      <td>12/08/2020 03:02:00 PM</td>\n      <td>5220.0</td>\n      <td>TDS LANDFILL</td>\n      <td>BULK</td>\n      <td>Overcast</td>\n      <td>28.690796</td>\n      <td>41.058655</td>\n      <td>Medium</td>\n      <td>0.809555</td>\n    </tr>\n    <tr>\n      <th>2</th>\n      <td>12/03/2020</td>\n      <td>RECYCLING - SINGLE STREAM</td>\n      <td>12/03/2020 10:34:00 AM</td>\n      <td>10060.0</td>\n      <td>BALCONES RECYCLING</td>\n      <td>RECYCLING - SINGLE STREAM</td>\n      <td>Partially cloudy</td>\n      <td>29.042358</td>\n      <td>41.113586</td>\n      <td>Medium</td>\n      <td>0.948382</td>\n    </tr>\n    <tr>\n      <th>4</th>\n      <td>12/07/2020</td>\n      <td>SWEEPING</td>\n      <td>12/07/2020 10:15:00 AM</td>\n      <td>7100.0</td>\n      <td>TDS LANDFILL</td>\n      <td>SWEEPER DUMPSITES</td>\n      <td>Clear</td>\n      <td>28.690796</td>\n      <td>41.058655</td>\n      <td>Medium</td>\n      <td>0.065881</td>\n    </tr>\n    <tr>\n      <th>6</th>\n      <td>12/04/2020</td>\n      <td>GARBAGE COLLECTIONS</td>\n      <td>12/04/2020 01:01:00 PM</td>\n      <td>22720.0</td>\n      <td>TDS LANDFILL</td>\n      <td>GARBAGE COLLECTION</td>\n      <td>Snow, Rain, Partially cloudy</td>\n      <td>28.690796</td>\n      <td>41.058655</td>\n      <td>Medium</td>\n      <td>0.037533</td>\n    </tr>\n    <tr>\n      <th>7</th>\n      <td>12/08/2020</td>\n      <td>BULK</td>\n      <td>12/08/2020 12:37:00 PM</td>\n      <td>7700.0</td>\n      <td>TDS LANDFILL</td>\n      <td>BULK</td>\n      <td>Rain, Partially cloudy</td>\n      <td>28.690796</td>\n      <td>41.058655</td>\n      <td>Medium</td>\n      <td>0.202373</td>\n    </tr>\n  </tbody>\n</table>\n</div>"
     },
     "execution_count": 133,
     "metadata": {},
     "output_type": "execute_result"
    }
   ],
   "source": [
    "import numpy as np\n",
    "\n",
    "# List of possible values to fill NaN\n",
    "possible_conditions = ['High', 'Medium', 'Low']\n",
    "\n",
    "# Replace NaN values in 'TrafficCondition' with random values from the list\n",
    "data['TrafficCondition'] = data['TrafficCondition'].apply(lambda x: np.random.choice(possible_conditions) if pd.isna(x) else x)\n",
    "\n",
    "data['Norm_NumVehicles'] = data['Norm_NumVehicles'].apply(lambda x: np.random.uniform(0, 1) if pd.isna(x) else x)\n",
    "\n",
    "data.to_csv('final_waste_collection_data.csv', index=False)\n",
    "# Display the first few rows of the updated DataFrame\n",
    "data.head()"
   ],
   "metadata": {
    "collapsed": false,
    "ExecuteTime": {
     "end_time": "2024-12-12T20:55:04.477973400Z",
     "start_time": "2024-12-12T20:55:04.222380300Z"
    }
   },
   "id": "52022025918fe20d"
  },
  {
   "cell_type": "code",
   "execution_count": 138,
   "outputs": [
    {
     "data": {
      "text/plain": "'multiple_locations_map.html'"
     },
     "execution_count": 138,
     "metadata": {},
     "output_type": "execute_result"
    }
   ],
   "source": [
    "#display location on map\n",
    "import folium\n",
    "# Coordinates for the given addresses\n",
    "locations = {\n",
    "    \"4600 Elmont Dr Austin, TX 78741\": (30.2226, -97.7197),\n",
    "    \"12200 Carl Rd, Creedmoor, TX 78610\": (30.0868, -97.6898),\n",
    "    \"3200 Jones Rd, Austin, TX 78745\": (30.2185, -97.8287),\n",
    "    \"9301 Johnny Morris Road Austin, TX 78724\": (30.3052, -97.6342),\n",
    "    \"2210 FM 973, Austin, TX 78725\": (30.2525, -97.5989)\n",
    "}\n",
    "\n",
    "# Calculate map center by averaging coordinates\n",
    "average_lat = sum(coord[0] for coord in locations.values()) / len(locations)\n",
    "average_lon = sum(coord[1] for coord in locations.values()) / len(locations)\n",
    "map_center = (average_lat, average_lon)\n",
    "\n",
    "# Create a map\n",
    "m = folium.Map(location=map_center, zoom_start=12)\n",
    "\n",
    "# Add markers for each location\n",
    "for name, coord in locations.items():\n",
    "    folium.Marker(location=coord, popup=name).add_to(m)\n",
    "\n",
    "# Save the map to display\n",
    "map_file_path = 'multiple_locations_map.html'\n",
    "m.save(map_file_path)\n",
    "map_file_path\n"
   ],
   "metadata": {
    "collapsed": false,
    "ExecuteTime": {
     "end_time": "2024-12-12T21:10:42.297606400Z",
     "start_time": "2024-12-12T21:10:42.249105100Z"
    }
   },
   "id": "dcd663142526ca15"
  },
  {
   "cell_type": "code",
   "execution_count": 134,
   "outputs": [
    {
     "data": {
      "text/plain": "Index(['Report Date', 'Load Type', 'Load Time', 'Load Weight', 'Dropoff Site',\n       'Route Type', 'conditions', 'LONGITUDE', 'LATITUDE', 'TrafficCondition',\n       'Norm_NumVehicles'],\n      dtype='object')"
     },
     "execution_count": 134,
     "metadata": {},
     "output_type": "execute_result"
    }
   ],
   "source": [
    "data.columns"
   ],
   "metadata": {
    "collapsed": false,
    "ExecuteTime": {
     "end_time": "2024-12-12T20:55:17.433321700Z",
     "start_time": "2024-12-12T20:55:17.414133200Z"
    }
   },
   "id": "79087a6ed5da736b"
  },
  {
   "cell_type": "code",
   "execution_count": 141,
   "outputs": [
    {
     "data": {
      "text/plain": "  Report Date                  Load Type               Load Time  Load Weight  \\\n0  12/08/2020                       BULK  12/08/2020 03:02:00 PM       5220.0   \n2  12/03/2020  RECYCLING - SINGLE STREAM  12/03/2020 10:34:00 AM      10060.0   \n4  12/07/2020                   SWEEPING  12/07/2020 10:15:00 AM       7100.0   \n6  12/04/2020        GARBAGE COLLECTIONS  12/04/2020 01:01:00 PM      22720.0   \n7  12/08/2020                       BULK  12/08/2020 12:37:00 PM       7700.0   \n\n         Dropoff Site                 Route Type  \\\n0        TDS LANDFILL                       BULK   \n2  BALCONES RECYCLING  RECYCLING - SINGLE STREAM   \n4        TDS LANDFILL          SWEEPER DUMPSITES   \n6        TDS LANDFILL         GARBAGE COLLECTION   \n7        TDS LANDFILL                       BULK   \n\n                     conditions  LONGITUDE   LATITUDE TrafficCondition  \\\n0                      Overcast  28.690796  41.058655           Medium   \n2              Partially cloudy  29.042358  41.113586           Medium   \n4                         Clear  28.690796  41.058655           Medium   \n6  Snow, Rain, Partially cloudy  28.690796  41.058655           Medium   \n7        Rain, Partially cloudy  28.690796  41.058655           Medium   \n\n   Norm_NumVehicles  DistanceToNextArea  \n0          0.809555               15.32  \n2          0.948382               24.49  \n4          0.065881               15.32  \n6          0.037533               15.32  \n7          0.202373               15.32  ",
      "text/html": "<div>\n<style scoped>\n    .dataframe tbody tr th:only-of-type {\n        vertical-align: middle;\n    }\n\n    .dataframe tbody tr th {\n        vertical-align: top;\n    }\n\n    .dataframe thead th {\n        text-align: right;\n    }\n</style>\n<table border=\"1\" class=\"dataframe\">\n  <thead>\n    <tr style=\"text-align: right;\">\n      <th></th>\n      <th>Report Date</th>\n      <th>Load Type</th>\n      <th>Load Time</th>\n      <th>Load Weight</th>\n      <th>Dropoff Site</th>\n      <th>Route Type</th>\n      <th>conditions</th>\n      <th>LONGITUDE</th>\n      <th>LATITUDE</th>\n      <th>TrafficCondition</th>\n      <th>Norm_NumVehicles</th>\n      <th>DistanceToNextArea</th>\n    </tr>\n  </thead>\n  <tbody>\n    <tr>\n      <th>0</th>\n      <td>12/08/2020</td>\n      <td>BULK</td>\n      <td>12/08/2020 03:02:00 PM</td>\n      <td>5220.0</td>\n      <td>TDS LANDFILL</td>\n      <td>BULK</td>\n      <td>Overcast</td>\n      <td>28.690796</td>\n      <td>41.058655</td>\n      <td>Medium</td>\n      <td>0.809555</td>\n      <td>15.32</td>\n    </tr>\n    <tr>\n      <th>2</th>\n      <td>12/03/2020</td>\n      <td>RECYCLING - SINGLE STREAM</td>\n      <td>12/03/2020 10:34:00 AM</td>\n      <td>10060.0</td>\n      <td>BALCONES RECYCLING</td>\n      <td>RECYCLING - SINGLE STREAM</td>\n      <td>Partially cloudy</td>\n      <td>29.042358</td>\n      <td>41.113586</td>\n      <td>Medium</td>\n      <td>0.948382</td>\n      <td>24.49</td>\n    </tr>\n    <tr>\n      <th>4</th>\n      <td>12/07/2020</td>\n      <td>SWEEPING</td>\n      <td>12/07/2020 10:15:00 AM</td>\n      <td>7100.0</td>\n      <td>TDS LANDFILL</td>\n      <td>SWEEPER DUMPSITES</td>\n      <td>Clear</td>\n      <td>28.690796</td>\n      <td>41.058655</td>\n      <td>Medium</td>\n      <td>0.065881</td>\n      <td>15.32</td>\n    </tr>\n    <tr>\n      <th>6</th>\n      <td>12/04/2020</td>\n      <td>GARBAGE COLLECTIONS</td>\n      <td>12/04/2020 01:01:00 PM</td>\n      <td>22720.0</td>\n      <td>TDS LANDFILL</td>\n      <td>GARBAGE COLLECTION</td>\n      <td>Snow, Rain, Partially cloudy</td>\n      <td>28.690796</td>\n      <td>41.058655</td>\n      <td>Medium</td>\n      <td>0.037533</td>\n      <td>15.32</td>\n    </tr>\n    <tr>\n      <th>7</th>\n      <td>12/08/2020</td>\n      <td>BULK</td>\n      <td>12/08/2020 12:37:00 PM</td>\n      <td>7700.0</td>\n      <td>TDS LANDFILL</td>\n      <td>BULK</td>\n      <td>Rain, Partially cloudy</td>\n      <td>28.690796</td>\n      <td>41.058655</td>\n      <td>Medium</td>\n      <td>0.202373</td>\n      <td>15.32</td>\n    </tr>\n  </tbody>\n</table>\n</div>"
     },
     "execution_count": 141,
     "metadata": {},
     "output_type": "execute_result"
    }
   ],
   "source": [
    "import pandas as pd\n",
    "\n",
    "# Define the function to calculate DistanceToNextArea\n",
    "def calculate_distance(row):\n",
    "    if row['Dropoff Site'] == 'TDS LANDFILL':\n",
    "        return 15.32\n",
    "    elif row['Dropoff Site'] == 'ELMONT':\n",
    "        return 10.35\n",
    "    elif row['Dropoff Site'] == 'BURGER CENTER':\n",
    "        return 22.43\n",
    "    elif row['Dropoff Site'] == 'HORNSBY BEND':\n",
    "        return 6.75\n",
    "    elif row['Dropoff Site'] == 'BALCONES RECYCLING':\n",
    "        return 24.49\n",
    "    else:\n",
    "        return None\n",
    "\n",
    "# Apply the function to each row to create the new column\n",
    "data['DistanceToNextArea'] = data.apply(calculate_distance, axis=1)\n",
    "data.to_csv('final_waste_collection_data.csv', index=False)\n",
    "# Display the first few rows of the updated DataFrame\n",
    "data.head()"
   ],
   "metadata": {
    "collapsed": false,
    "ExecuteTime": {
     "end_time": "2024-12-13T00:48:43.212388200Z",
     "start_time": "2024-12-13T00:48:42.851144Z"
    }
   },
   "id": "fcb8d2c9623e376a"
  },
  {
   "cell_type": "code",
   "execution_count": 149,
   "outputs": [
    {
     "data": {
      "text/plain": "  Report Date                  Load Type               Load Time  Load Weight  \\\n0  12/08/2020                       BULK  12/08/2020 03:02:00 PM       5220.0   \n2  12/03/2020  RECYCLING - SINGLE STREAM  12/03/2020 10:34:00 AM      10060.0   \n4  12/07/2020                   SWEEPING  12/07/2020 10:15:00 AM       7100.0   \n6  12/04/2020        GARBAGE COLLECTIONS  12/04/2020 01:01:00 PM      22720.0   \n7  12/08/2020                       BULK  12/08/2020 12:37:00 PM       7700.0   \n\n         Dropoff Site                 Route Type  \\\n0        TDS LANDFILL                       BULK   \n2  BALCONES RECYCLING  RECYCLING - SINGLE STREAM   \n4        TDS LANDFILL          SWEEPER DUMPSITES   \n6        TDS LANDFILL         GARBAGE COLLECTION   \n7        TDS LANDFILL                       BULK   \n\n                     conditions  LONGITUDE   LATITUDE TrafficCondition  \\\n0                      Overcast  28.690796  41.058655           Medium   \n2              Partially cloudy  29.042358  41.113586           Medium   \n4                         Clear  28.690796  41.058655           Medium   \n6  Snow, Rain, Partially cloudy  28.690796  41.058655           Medium   \n7        Rain, Partially cloudy  28.690796  41.058655           Medium   \n\n   Norm_NumVehicles  DistanceToNextArea  Traffic factor  Travel_Time  \n0          0.809555               15.32            0.75     1.162447  \n2          0.948382               24.49            0.75     1.220102  \n4          0.065881               15.32            0.75     1.772598  \n6          0.037533               15.32            0.75     2.932771  \n7          0.202373               15.32            0.75     2.266151  ",
      "text/html": "<div>\n<style scoped>\n    .dataframe tbody tr th:only-of-type {\n        vertical-align: middle;\n    }\n\n    .dataframe tbody tr th {\n        vertical-align: top;\n    }\n\n    .dataframe thead th {\n        text-align: right;\n    }\n</style>\n<table border=\"1\" class=\"dataframe\">\n  <thead>\n    <tr style=\"text-align: right;\">\n      <th></th>\n      <th>Report Date</th>\n      <th>Load Type</th>\n      <th>Load Time</th>\n      <th>Load Weight</th>\n      <th>Dropoff Site</th>\n      <th>Route Type</th>\n      <th>conditions</th>\n      <th>LONGITUDE</th>\n      <th>LATITUDE</th>\n      <th>TrafficCondition</th>\n      <th>Norm_NumVehicles</th>\n      <th>DistanceToNextArea</th>\n      <th>Traffic factor</th>\n      <th>Travel_Time</th>\n    </tr>\n  </thead>\n  <tbody>\n    <tr>\n      <th>0</th>\n      <td>12/08/2020</td>\n      <td>BULK</td>\n      <td>12/08/2020 03:02:00 PM</td>\n      <td>5220.0</td>\n      <td>TDS LANDFILL</td>\n      <td>BULK</td>\n      <td>Overcast</td>\n      <td>28.690796</td>\n      <td>41.058655</td>\n      <td>Medium</td>\n      <td>0.809555</td>\n      <td>15.32</td>\n      <td>0.75</td>\n      <td>1.162447</td>\n    </tr>\n    <tr>\n      <th>2</th>\n      <td>12/03/2020</td>\n      <td>RECYCLING - SINGLE STREAM</td>\n      <td>12/03/2020 10:34:00 AM</td>\n      <td>10060.0</td>\n      <td>BALCONES RECYCLING</td>\n      <td>RECYCLING - SINGLE STREAM</td>\n      <td>Partially cloudy</td>\n      <td>29.042358</td>\n      <td>41.113586</td>\n      <td>Medium</td>\n      <td>0.948382</td>\n      <td>24.49</td>\n      <td>0.75</td>\n      <td>1.220102</td>\n    </tr>\n    <tr>\n      <th>4</th>\n      <td>12/07/2020</td>\n      <td>SWEEPING</td>\n      <td>12/07/2020 10:15:00 AM</td>\n      <td>7100.0</td>\n      <td>TDS LANDFILL</td>\n      <td>SWEEPER DUMPSITES</td>\n      <td>Clear</td>\n      <td>28.690796</td>\n      <td>41.058655</td>\n      <td>Medium</td>\n      <td>0.065881</td>\n      <td>15.32</td>\n      <td>0.75</td>\n      <td>1.772598</td>\n    </tr>\n    <tr>\n      <th>6</th>\n      <td>12/04/2020</td>\n      <td>GARBAGE COLLECTIONS</td>\n      <td>12/04/2020 01:01:00 PM</td>\n      <td>22720.0</td>\n      <td>TDS LANDFILL</td>\n      <td>GARBAGE COLLECTION</td>\n      <td>Snow, Rain, Partially cloudy</td>\n      <td>28.690796</td>\n      <td>41.058655</td>\n      <td>Medium</td>\n      <td>0.037533</td>\n      <td>15.32</td>\n      <td>0.75</td>\n      <td>2.932771</td>\n    </tr>\n    <tr>\n      <th>7</th>\n      <td>12/08/2020</td>\n      <td>BULK</td>\n      <td>12/08/2020 12:37:00 PM</td>\n      <td>7700.0</td>\n      <td>TDS LANDFILL</td>\n      <td>BULK</td>\n      <td>Rain, Partially cloudy</td>\n      <td>28.690796</td>\n      <td>41.058655</td>\n      <td>Medium</td>\n      <td>0.202373</td>\n      <td>15.32</td>\n      <td>0.75</td>\n      <td>2.266151</td>\n    </tr>\n  </tbody>\n</table>\n</div>"
     },
     "execution_count": 149,
     "metadata": {},
     "output_type": "execute_result"
    }
   ],
   "source": [
    "import pandas as pd\n",
    "\n",
    "# Define the function to calculate Traffic factor\n",
    "def calculate_traffic_factor(row):\n",
    "    if row['TrafficCondition'] == 'High':\n",
    "        return 0.5\n",
    "    elif row['TrafficCondition'] == 'Medium':\n",
    "        return 0.75\n",
    "    elif row['TrafficCondition'] == 'Low':\n",
    "        return 1\n",
    "    else:\n",
    "        return None\n",
    "\n",
    "# Apply the function to create a new column 'Traffic factor'\n",
    "data['Traffic factor'] = data.apply(calculate_traffic_factor, axis=1)\n",
    "\n",
    "# Calculate the Travel_Time using the given formula\n",
    "data['Travel_Time'] = data['DistanceToNextArea'] / (\n",
    "    (40 * data['Traffic factor']) * \n",
    "    (1 - 0.01 * data['Load Weight'] / 100) * \n",
    "    (1 - 0.1 * data['Norm_NumVehicles'])\n",
    ")\n",
    "\n",
    "import numpy as np\n",
    "\n",
    "# Replace 'inf' values with a random value between 1 and 5\n",
    "data['Travel_Time'] = data['Travel_Time'].apply(lambda x: np.random.uniform(1, 5) if np.isinf(x) else x)\n",
    "\n",
    "# Replace negative values with a random value between 1 and 5\n",
    "data['Travel_Time'] = data['Travel_Time'].apply(lambda x: np.random.uniform(1, 5) if x < 0 else x)\n",
    "data.to_csv('final_waste_collection_data.csv', index=False)\n",
    "# Display the first few rows of the updated DataFrame\n",
    "data.head()\n",
    "\n",
    "# Display the first few rows of the updated DataFrame\n",
    "data.head()"
   ],
   "metadata": {
    "collapsed": false,
    "ExecuteTime": {
     "end_time": "2024-12-13T01:16:21.636221600Z",
     "start_time": "2024-12-13T01:16:19.322579Z"
    }
   },
   "id": "f69cd90dc71278b2"
  },
  {
   "cell_type": "code",
   "execution_count": 146,
   "outputs": [
    {
     "data": {
      "text/plain": "<Figure size 1000x600 with 1 Axes>",
      "image/png": "[encoded data removed]"
     },
     "metadata": {},
     "output_type": "display_data"
    }
   ],
   "source": [
    "import matplotlib.pyplot as plt\n",
    "\n",
    "# Plot the Travel_Time column\n",
    "plt.figure(figsize=(10, 6))\n",
    "plt.plot(data['Travel_Time'], label='Travel Time')\n",
    "plt.xlabel('Index')\n",
    "plt.ylabel('Travel Time')\n",
    "plt.title('Travel Time Plot')\n",
    "plt.legend()\n",
    "plt.show()"
   ],
   "metadata": {
    "collapsed": false,
    "ExecuteTime": {
     "end_time": "2024-12-13T01:02:22.128988800Z",
     "start_time": "2024-12-13T01:02:21.223650200Z"
    }
   },
   "id": "46f16a29ca089865"
  },
  {
   "cell_type": "code",
   "execution_count": 147,
   "outputs": [
    {
     "data": {
      "text/plain": "421120"
     },
     "execution_count": 147,
     "metadata": {},
     "output_type": "execute_result"
    }
   ],
   "source": [
    "data.size"
   ],
   "metadata": {
    "collapsed": false,
    "ExecuteTime": {
     "end_time": "2024-12-13T01:02:51.316796200Z",
     "start_time": "2024-12-13T01:02:51.091898200Z"
    }
   },
   "id": "3cd49244fcc9fb5c"
  },
  {
   "cell_type": "code",
   "execution_count": null,
   "outputs": [],
   "source": [],
   "metadata": {
    "collapsed": false
   },
   "id": "91be0450b069c958"
  }
 ],
 "metadata": {
  "kernelspec": {
   "display_name": "Python 3",
   "language": "python",
   "name": "python3"
  },
  "language_info": {
   "codemirror_mode": {
    "name": "ipython",
    "version": 2
   },
   "file_extension": ".py",
   "mimetype": "text/x-python",
   "name": "python",
   "nbconvert_exporter": "python",
   "pygments_lexer": "ipython2",
   "version": "2.7.6"
  }
 },
 "nbformat": 4,
 "nbformat_minor": 5
}
